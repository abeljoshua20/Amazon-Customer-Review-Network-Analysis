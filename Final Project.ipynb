{
 "cells": [
  {
   "cell_type": "markdown",
   "id": "concerned-romania",
   "metadata": {},
   "source": [
    "# Identifying potential Bot or Paid reviewers using Amazon customer review data using Network Analysis\n",
    "**By: SLT11A**\n",
    "* Abel Johua Cruzada\n",
    "* James Gonzales"
   ]
  },
  {
   "cell_type": "markdown",
   "id": "documented-funds",
   "metadata": {},
   "source": [
    "# Executive Summary"
   ]
  },
  {
   "cell_type": "markdown",
   "id": "commercial-relations",
   "metadata": {},
   "source": []
  },
  {
   "cell_type": "code",
   "execution_count": 108,
   "id": "polished-middle",
   "metadata": {
    "ExecuteTime": {
     "end_time": "2021-04-24T10:12:21.833741Z",
     "start_time": "2021-04-24T10:12:21.816786Z"
    }
   },
   "outputs": [],
   "source": [
    "import os\n",
    "import pandas as pd\n",
    "import numpy as np\n",
    "import matplotlib.pyplot as plt\n",
    "import seaborn as sns\n",
    "\n",
    "import networkx as nx\n",
    "import networkx_abel as nxa\n",
    "\n",
    "import regex as re\n",
    "from nltk.corpus import stopwords\n",
    "from gensim.utils import simple_preprocess\n",
    "from sklearn.feature_extraction.text import TfidfVectorizer\n",
    "from sklearn.decomposition import TruncatedSVD\n",
    "from scipy.spatial.distance import euclidean\n",
    "from collections import Counter\n",
    "from itertools import chain\n",
    "\n",
    "from tqdm.notebook import tqdm\n",
    "import warnings"
   ]
  },
  {
   "cell_type": "code",
   "execution_count": 2,
   "id": "complete-struggle",
   "metadata": {
    "ExecuteTime": {
     "end_time": "2021-04-24T08:41:19.594321Z",
     "start_time": "2021-04-24T08:41:19.580492Z"
    }
   },
   "outputs": [],
   "source": [
    "aws_palette = ['#232f3e', '#e47911', '#007eb9', '#48a3c6', '#37475a']\n",
    "sns.set_palette(palette=aws_palette)"
   ]
  },
  {
   "cell_type": "markdown",
   "id": "found-relevance",
   "metadata": {},
   "source": [
    "# Introduction"
   ]
  },
  {
   "cell_type": "markdown",
   "id": "increased-basket",
   "metadata": {},
   "source": []
  },
  {
   "cell_type": "markdown",
   "id": "advance-whole",
   "metadata": {},
   "source": [
    "# Problem Statement"
   ]
  },
  {
   "cell_type": "markdown",
   "id": "angry-lingerie",
   "metadata": {},
   "source": [
    "# Objectives"
   ]
  },
  {
   "cell_type": "markdown",
   "id": "certified-thumbnail",
   "metadata": {},
   "source": [
    "# Data Description"
   ]
  },
  {
   "cell_type": "markdown",
   "id": "private-smart",
   "metadata": {},
   "source": [
    "# Methodology"
   ]
  },
  {
   "cell_type": "markdown",
   "id": "opposed-ranking",
   "metadata": {},
   "source": [
    "# Data Preprocessing"
   ]
  },
  {
   "cell_type": "markdown",
   "id": "mathematical-binding",
   "metadata": {},
   "source": [
    "## Filtering"
   ]
  },
  {
   "cell_type": "markdown",
   "id": "clear-estimate",
   "metadata": {},
   "source": [
    "Only include data from 2015 onwards."
   ]
  },
  {
   "cell_type": "raw",
   "id": "contemporary-receiver",
   "metadata": {
    "ExecuteTime": {
     "end_time": "2021-04-21T03:49:41.701759Z",
     "start_time": "2021-04-21T03:49:21.300383Z"
    }
   },
   "source": [
    "directory = r'Data\\amazon_reviews_us_Video_Games_v1_00.tsv'\n",
    "fn = 'amazon_reviews_us_Video_Games_v1_00.tsv'\n",
    "fp = os.path.join(directory, fn)\n",
    "df = pd.read_csv(fp, sep='\\t', error_bad_lines=False)\n",
    "\n",
    "# Filter date \n",
    "mask_date = df.review_date >= '2015-01-01'\n",
    "df = df.loc[mask_date]\n",
    "\n",
    "# Save to csv\n",
    "df.to_csv('amazon_reviews_video_games.csv')"
   ]
  },
  {
   "cell_type": "code",
   "execution_count": 3,
   "id": "superb-stress",
   "metadata": {
    "ExecuteTime": {
     "end_time": "2021-04-24T08:41:23.774477Z",
     "start_time": "2021-04-24T08:41:21.880421Z"
    },
    "scrolled": true
   },
   "outputs": [],
   "source": [
    "df = pd.read_csv('amazon_reviews_video_games.csv', index_col=0)"
   ]
  },
  {
   "cell_type": "code",
   "execution_count": 4,
   "id": "invalid-indianapolis",
   "metadata": {
    "ExecuteTime": {
     "end_time": "2021-04-24T08:41:23.836581Z",
     "start_time": "2021-04-24T08:41:23.821516Z"
    }
   },
   "outputs": [
    {
     "data": {
      "text/html": [
       "<div>\n",
       "<style scoped>\n",
       "    .dataframe tbody tr th:only-of-type {\n",
       "        vertical-align: middle;\n",
       "    }\n",
       "\n",
       "    .dataframe tbody tr th {\n",
       "        vertical-align: top;\n",
       "    }\n",
       "\n",
       "    .dataframe thead th {\n",
       "        text-align: right;\n",
       "    }\n",
       "</style>\n",
       "<table border=\"1\" class=\"dataframe\">\n",
       "  <thead>\n",
       "    <tr style=\"text-align: right;\">\n",
       "      <th></th>\n",
       "      <th>marketplace</th>\n",
       "      <th>customer_id</th>\n",
       "      <th>review_id</th>\n",
       "      <th>product_id</th>\n",
       "      <th>product_parent</th>\n",
       "      <th>product_title</th>\n",
       "      <th>product_category</th>\n",
       "      <th>star_rating</th>\n",
       "      <th>helpful_votes</th>\n",
       "      <th>total_votes</th>\n",
       "      <th>vine</th>\n",
       "      <th>verified_purchase</th>\n",
       "      <th>review_headline</th>\n",
       "      <th>review_body</th>\n",
       "      <th>review_date</th>\n",
       "    </tr>\n",
       "  </thead>\n",
       "  <tbody>\n",
       "    <tr>\n",
       "      <th>0</th>\n",
       "      <td>US</td>\n",
       "      <td>12039526</td>\n",
       "      <td>RTIS3L2M1F5SM</td>\n",
       "      <td>B001CXYMFS</td>\n",
       "      <td>737716809</td>\n",
       "      <td>Thrustmaster T-Flight Hotas X Flight Stick</td>\n",
       "      <td>Video Games</td>\n",
       "      <td>5</td>\n",
       "      <td>0</td>\n",
       "      <td>0</td>\n",
       "      <td>N</td>\n",
       "      <td>Y</td>\n",
       "      <td>an amazing joystick. I especially love that yo...</td>\n",
       "      <td>Used this for Elite Dangerous on my mac, an am...</td>\n",
       "      <td>2015-08-31</td>\n",
       "    </tr>\n",
       "    <tr>\n",
       "      <th>1</th>\n",
       "      <td>US</td>\n",
       "      <td>9636577</td>\n",
       "      <td>R1ZV7R40OLHKD</td>\n",
       "      <td>B00M920ND6</td>\n",
       "      <td>569686175</td>\n",
       "      <td>Tonsee 6 buttons Wireless Optical Silent Gamin...</td>\n",
       "      <td>Video Games</td>\n",
       "      <td>5</td>\n",
       "      <td>0</td>\n",
       "      <td>0</td>\n",
       "      <td>N</td>\n",
       "      <td>Y</td>\n",
       "      <td>Definitely a silent mouse... Not a single clic...</td>\n",
       "      <td>Loved it,  I didn't even realise it was a gami...</td>\n",
       "      <td>2015-08-31</td>\n",
       "    </tr>\n",
       "    <tr>\n",
       "      <th>2</th>\n",
       "      <td>US</td>\n",
       "      <td>2331478</td>\n",
       "      <td>R3BH071QLH8QMC</td>\n",
       "      <td>B0029CSOD2</td>\n",
       "      <td>98937668</td>\n",
       "      <td>Hidden Mysteries: Titanic Secrets of the Fatef...</td>\n",
       "      <td>Video Games</td>\n",
       "      <td>1</td>\n",
       "      <td>0</td>\n",
       "      <td>1</td>\n",
       "      <td>N</td>\n",
       "      <td>Y</td>\n",
       "      <td>One Star</td>\n",
       "      <td>poor quality work and not as it is advertised.</td>\n",
       "      <td>2015-08-31</td>\n",
       "    </tr>\n",
       "    <tr>\n",
       "      <th>3</th>\n",
       "      <td>US</td>\n",
       "      <td>52495923</td>\n",
       "      <td>R127K9NTSXA2YH</td>\n",
       "      <td>B00GOOSV98</td>\n",
       "      <td>23143350</td>\n",
       "      <td>GelTabz Performance Thumb Grips - PlayStation ...</td>\n",
       "      <td>Video Games</td>\n",
       "      <td>3</td>\n",
       "      <td>0</td>\n",
       "      <td>0</td>\n",
       "      <td>N</td>\n",
       "      <td>Y</td>\n",
       "      <td>good, but could be bettee</td>\n",
       "      <td>nice, but tend to slip away from stick in inte...</td>\n",
       "      <td>2015-08-31</td>\n",
       "    </tr>\n",
       "    <tr>\n",
       "      <th>4</th>\n",
       "      <td>US</td>\n",
       "      <td>14533949</td>\n",
       "      <td>R32ZWUXDJPW27Q</td>\n",
       "      <td>B00Y074JOM</td>\n",
       "      <td>821342511</td>\n",
       "      <td>Zero Suit Samus amiibo - Japan Import (Super S...</td>\n",
       "      <td>Video Games</td>\n",
       "      <td>4</td>\n",
       "      <td>0</td>\n",
       "      <td>0</td>\n",
       "      <td>N</td>\n",
       "      <td>Y</td>\n",
       "      <td>Great but flawed.</td>\n",
       "      <td>Great amiibo, great for collecting. Quality ma...</td>\n",
       "      <td>2015-08-31</td>\n",
       "    </tr>\n",
       "  </tbody>\n",
       "</table>\n",
       "</div>"
      ],
      "text/plain": [
       "  marketplace  customer_id       review_id  product_id  product_parent  \\\n",
       "0          US     12039526   RTIS3L2M1F5SM  B001CXYMFS       737716809   \n",
       "1          US      9636577   R1ZV7R40OLHKD  B00M920ND6       569686175   \n",
       "2          US      2331478  R3BH071QLH8QMC  B0029CSOD2        98937668   \n",
       "3          US     52495923  R127K9NTSXA2YH  B00GOOSV98        23143350   \n",
       "4          US     14533949  R32ZWUXDJPW27Q  B00Y074JOM       821342511   \n",
       "\n",
       "                                       product_title product_category  \\\n",
       "0         Thrustmaster T-Flight Hotas X Flight Stick      Video Games   \n",
       "1  Tonsee 6 buttons Wireless Optical Silent Gamin...      Video Games   \n",
       "2  Hidden Mysteries: Titanic Secrets of the Fatef...      Video Games   \n",
       "3  GelTabz Performance Thumb Grips - PlayStation ...      Video Games   \n",
       "4  Zero Suit Samus amiibo - Japan Import (Super S...      Video Games   \n",
       "\n",
       "   star_rating  helpful_votes  total_votes vine verified_purchase  \\\n",
       "0            5              0            0    N                 Y   \n",
       "1            5              0            0    N                 Y   \n",
       "2            1              0            1    N                 Y   \n",
       "3            3              0            0    N                 Y   \n",
       "4            4              0            0    N                 Y   \n",
       "\n",
       "                                     review_headline  \\\n",
       "0  an amazing joystick. I especially love that yo...   \n",
       "1  Definitely a silent mouse... Not a single clic...   \n",
       "2                                           One Star   \n",
       "3                          good, but could be bettee   \n",
       "4                                  Great but flawed.   \n",
       "\n",
       "                                         review_body review_date  \n",
       "0  Used this for Elite Dangerous on my mac, an am...  2015-08-31  \n",
       "1  Loved it,  I didn't even realise it was a gami...  2015-08-31  \n",
       "2     poor quality work and not as it is advertised.  2015-08-31  \n",
       "3  nice, but tend to slip away from stick in inte...  2015-08-31  \n",
       "4  Great amiibo, great for collecting. Quality ma...  2015-08-31  "
      ]
     },
     "execution_count": 4,
     "metadata": {},
     "output_type": "execute_result"
    }
   ],
   "source": [
    "df.head()"
   ]
  },
  {
   "cell_type": "markdown",
   "id": "practical-litigation",
   "metadata": {},
   "source": [
    "Remove single value columns"
   ]
  },
  {
   "cell_type": "code",
   "execution_count": 5,
   "id": "certain-family",
   "metadata": {
    "ExecuteTime": {
     "end_time": "2021-04-24T08:41:30.994880Z",
     "start_time": "2021-04-24T08:41:30.375844Z"
    }
   },
   "outputs": [
    {
     "data": {
      "text/plain": [
       "marketplace               1\n",
       "customer_id          219045\n",
       "review_id            330966\n",
       "product_id            32693\n",
       "product_parent        31366\n",
       "product_title         27053\n",
       "product_category          1\n",
       "star_rating               5\n",
       "helpful_votes           183\n",
       "total_votes             246\n",
       "vine                      2\n",
       "verified_purchase         2\n",
       "review_headline      137990\n",
       "review_body          259517\n",
       "review_date             243\n",
       "dtype: int64"
      ]
     },
     "execution_count": 5,
     "metadata": {},
     "output_type": "execute_result"
    }
   ],
   "source": [
    "df.nunique()"
   ]
  },
  {
   "cell_type": "code",
   "execution_count": 6,
   "id": "bridal-marina",
   "metadata": {
    "ExecuteTime": {
     "end_time": "2021-04-24T08:41:31.041963Z",
     "start_time": "2021-04-24T08:41:30.995845Z"
    }
   },
   "outputs": [],
   "source": [
    "df.drop(['marketplace', 'product_category', 'vine'], axis=1, inplace=True)"
   ]
  },
  {
   "cell_type": "markdown",
   "id": "chicken-appointment",
   "metadata": {},
   "source": [
    "## Text Preprocessing"
   ]
  },
  {
   "cell_type": "markdown",
   "id": "square-lancaster",
   "metadata": {},
   "source": [
    "Obtain word vectors using Glove"
   ]
  },
  {
   "cell_type": "code",
   "execution_count": 12,
   "id": "stunning-silence",
   "metadata": {
    "ExecuteTime": {
     "end_time": "2021-04-24T08:42:51.773085Z",
     "start_time": "2021-04-24T08:42:45.070449Z"
    }
   },
   "outputs": [],
   "source": [
    "glove_dict = dict()\n",
    "with open('embeddings/glove.6B.50d.txt', 'r', encoding='utf8') as f:\n",
    "    for line in f:\n",
    "        values = line.split()\n",
    "        word = values[0]\n",
    "        vector = np.asarray(values[1:], 'float32')\n",
    "        glove_dict[word] = vector"
   ]
  },
  {
   "cell_type": "code",
   "execution_count": 101,
   "id": "threaded-lodge",
   "metadata": {
    "ExecuteTime": {
     "end_time": "2021-04-24T10:03:06.539101Z",
     "start_time": "2021-04-24T10:03:06.486052Z"
    }
   },
   "outputs": [],
   "source": [
    "reviews = df.review_body.copy()"
   ]
  },
  {
   "cell_type": "markdown",
   "id": "vocational-trick",
   "metadata": {},
   "source": [
    "Set stopwords and contractions"
   ]
  },
  {
   "cell_type": "code",
   "execution_count": 8,
   "id": "rising-auction",
   "metadata": {
    "ExecuteTime": {
     "end_time": "2021-04-24T08:41:31.273467Z",
     "start_time": "2021-04-24T08:41:31.196185Z"
    },
    "code_folding": [
     1
    ]
   },
   "outputs": [],
   "source": [
    "stop_words = stopwords.words('english')\n",
    "CONTRACTIONS = {\n",
    "    \"ain't\": \"is not\", \"aren't\": \"are not\", \"can't\": \"cannot\",\n",
    "    \"'cause\": \"because\", \"could've\": \"could have\", \"couldn't\": \"could not\",\n",
    "    \"didn't\": \"did not\", \"doesn't\": \"does not\", \"don't\": \"do not\",\n",
    "    \"hadn't\": \"had not\", \"hasn't\": \"has not\", \"haven't\": \"have not\",\n",
    "    \"he'd\": \"he would\", \"he'll\": \"he will\",\n",
    "    \"he's\": \"he is\", \"how'd\": \"how did\",\n",
    "    \"how'd'y\": \"how do you\", \"how'll\": \"how will\", \"how's\": \"how is\",\n",
    "    \"I'd\": \"I would\", \"I'd've\": \"I would have\", \"I'll\": \"I will\",\n",
    "    \"I'll've\": \"I will have\", \"I'm\": \"I am\",\n",
    "    \"I've\": \"I have\", \"i'd\": \"i would\",\n",
    "    \"i'd've\": \"i would have\", \"i'll\": \"i will\",  \"i'll've\": \"i will have\",\n",
    "    \"i'm\": \"i am\", \"i've\": \"i have\", \"isn't\": \"is not\", \"it'd\": \"it would\",\n",
    "    \"it'd've\": \"it would have\", \"it'll\": \"it will\",\n",
    "    \"it'll've\": \"it will have\", \"it's\": \"it is\",\n",
    "    \"let's\": \"let us\", \"ma'am\": \"madam\", \"mayn't\": \"may not\",\n",
    "    \"might've\": \"might have\", \"mightn't\": \"might not\",\n",
    "    \"mightn't've\": \"might not have\", \"must've\": \"must have\",\n",
    "    \"mustn't\": \"must not\", \"mustn't've\": \"must not have\",\n",
    "    \"needn't\": \"need not\", \"needn't've\": \"need not have\",\n",
    "    \"o'clock\": \"of the clock\", \"oughtn't\": \"ought not\",\n",
    "    \"oughtn't've\": \"ought not have\", \"shan't\": \"shall not\",\n",
    "    \"sha'n't\": \"shall not\", \"shan't've\": \"shall not have\",\n",
    "    \"she'd\": \"she would\", \"she'd've\": \"she would have\",\n",
    "    \"she'll\": \"she will\", \"she'll've\": \"she will have\", \"she's\": \"she is\",\n",
    "    \"should've\": \"should have\", \"shouldn't\": \"should not\",\n",
    "    \"shouldn't've\": \"should not have\", \"so've\": \"so have\",\n",
    "    \"so's\": \"so as\",\n",
    "    \"this's\": \"this is\", \"that'd\": \"that would\",\n",
    "    \"that'd've\": \"that would have\", \"that's\": \"that is\",\n",
    "    \"there'd\": \"there would\", \"there'd've\": \"there would have\",\n",
    "    \"there's\": \"there is\", \"here's\": \"here is\", \"they'd\": \"they would\",\n",
    "    \"they'd've\": \"they would have\", \"they'll\": \"they will\",\n",
    "    \"they'll've\": \"they will have\", \"they're\": \"they are\",\n",
    "    \"they've\": \"they have\", \"to've\": \"to have\", \"wasn't\": \"was not\",\n",
    "    \"we'd\": \"we would\", \"we'd've\": \"we would have\", \"we'll\": \"we will\",\n",
    "    \"we'll've\": \"we will have\", \"we're\": \"we are\", \"we've\": \"we have\",\n",
    "    \"weren't\": \"were not\", \"what'll\": \"what will\",\n",
    "    \"what'll've\": \"what will have\", \"what're\": \"what are\",\n",
    "    \"what's\": \"what is\", \"what've\": \"what have\",\n",
    "    \"when's\": \"when is\", \"when've\": \"when have\", \"where'd\": \"where did\",\n",
    "    \"where's\": \"where is\", \"where've\": \"where have\", \"who'll\": \"who will\",\n",
    "    \"who'll've\": \"who will have\", \"who's\": \"who is\", \"who've\": \"who have\",\n",
    "    \"why's\": \"why is\", \"why've\": \"why have\", \"will've\": \"will have\",\n",
    "    \"won't\": \"will not\", \"won't've\": \"will not have\",\n",
    "    \"would've\": \"would have\", \"wouldn't\": \"would not\",\n",
    "    \"wouldn't've\": \"would not have\", \"y'all\": \"you all\",\n",
    "    \"y'all'd\": \"you all would\", \"y'all'd've\": \"you all would have\",\n",
    "    \"y'all're\": \"you all are\", \"y'all've\": \"you all have\",\n",
    "    \"you'd\": \"you would\", \"you'd've\": \"you would have\", \"you'll\": \"you will\",\n",
    "    \"you'll've\": \"you will have\", \"you're\": \"you are\", \"you've\": \"you have\"}"
   ]
  },
  {
   "cell_type": "code",
   "execution_count": 20,
   "id": "approved-verification",
   "metadata": {
    "ExecuteTime": {
     "end_time": "2021-04-24T08:58:47.807125Z",
     "start_time": "2021-04-24T08:58:47.791934Z"
    }
   },
   "outputs": [],
   "source": [
    "def text_cleaner(text):\n",
    "    \"\"\"\n",
    "    Cleans the text by removing dates and comments.\n",
    "    i.e. text enclosed in brackets and parenthesis.\n",
    "    Expand contractions and remove punctations.\n",
    "\n",
    "    Parameters\n",
    "    ----------\n",
    "    text : str\n",
    "        Text to clean.\n",
    "\n",
    "    Return\n",
    "    ------\n",
    "    token : list of str\n",
    "        Tokens extracted from text after cleaning.\n",
    "    \"\"\"\n",
    "    month_pattern = (r'jan[\\w]+ |feb[\\w]+ |mar[\\w]+ |apr[\\w]+ |may |jun[\\w]+ '\n",
    "                     r'|jul[\\w]+ |aug[\\w]+ |sep[\\w]+ |oct[\\w]+ |nov[\\w]+ '\n",
    "                     r'|dec[\\w]+ ')\n",
    "\n",
    "    clean_text = text.lower()\n",
    "    clean_text = re.sub(r'[\\(\\)\\[\\]\\{\\}]', ' ', clean_text)\n",
    "    clean_text = re.sub(month_pattern, ' ', clean_text)\n",
    "    clean_text = re.sub(r'\"', '', clean_text)\n",
    "    clean_text = re.sub(r\"'s\\b\", ' ', clean_text)\n",
    "    clean_text = re.sub(r'[^a-zA-Z]', ' ', clean_text)\n",
    "    clean_text = re.sub(r'[\\ ]+', ' ', clean_text)\n",
    "\n",
    "    clean_text = ' '.join([CONTRACTIONS[t] if t in CONTRACTIONS else t\n",
    "                           for t in clean_text.split(' ')])\n",
    "\n",
    "    return simple_preprocess(clean_text, deacc=True, min_len=2)\n",
    "\n",
    "\n",
    "def remove_stopwords(words, stop_words=stop_words):\n",
    "    \"\"\"\n",
    "    Remove stop words from the text.\n",
    "\n",
    "    Parameters\n",
    "    ----------\n",
    "    words : list of str\n",
    "        Words to remove stop words.\n",
    "    stop_words : set of str\n",
    "        Words to remove.\n",
    "\n",
    "    Returns\n",
    "    -------\n",
    "    text : str\n",
    "        Texts without stop words\n",
    "    \"\"\"\n",
    "    return [word for word in words if not word in stop_words]"
   ]
  },
  {
   "cell_type": "code",
   "execution_count": null,
   "id": "blank-uniform",
   "metadata": {
    "ExecuteTime": {
     "start_time": "2021-04-24T10:12:44.967Z"
    }
   },
   "outputs": [],
   "source": [
    "reviews_clean = reviews.apply(lambda x: text_cleaner(str(x)))\n",
    "reviews_clean = reviews_clean.apply(remove_stopwords)"
   ]
  },
  {
   "cell_type": "code",
   "execution_count": 100,
   "id": "returning-thumbnail",
   "metadata": {
    "ExecuteTime": {
     "end_time": "2021-04-24T09:59:38.732819Z",
     "start_time": "2021-04-24T09:59:38.722005Z"
    }
   },
   "outputs": [],
   "source": [
    "def find_similar_term(term, n=1, threshold=5):\n",
    "    \"\"\"\n",
    "    Find n words with similar context.\n",
    "    Use Glove embeddings and euclidean distance.\n",
    "\n",
    "    Parameters\n",
    "    ----------\n",
    "    term : str\n",
    "        Term to find similar terms using glove embedding.\n",
    "    n : int, optional\n",
    "        Number of similar terms to return. default is 1.\n",
    "    threshold : int, optional\n",
    "        Threshold of distance to return.\n",
    "\n",
    "    Returns\n",
    "    -------\n",
    "    terms : list or str\n",
    "        Return a list of similar terms\n",
    "\n",
    "    \"\"\"\n",
    "    if term not in glove_dict.keys():\n",
    "        return []\n",
    "    # Get distance\n",
    "    dist = {word: euclidean(glove_dict[word], glove_dict[term])\n",
    "            for word in glove_dict.keys() if word != term}\n",
    "    # Filter threshold\n",
    "    dist = dict(filter(lambda x: x[1] <= threshold, dist.items()))\n",
    "\n",
    "    if len(dist):\n",
    "        # Sort by distance ascending, return n number of words\n",
    "        return sorted(dist.items(), key=lambda x: x[1])[:n]\n",
    "    else:\n",
    "        return []\n",
    "\n",
    "\n",
    "def common_elements(list_1, list_2):\n",
    "    \"\"\"Check if two list have something in common.\"\"\"\n",
    "    a_set = set(list_1)\n",
    "    b_set = set(list_2)\n",
    "    if (a_set & b_set):\n",
    "        return True\n",
    "    else:\n",
    "        return False"
   ]
  },
  {
   "cell_type": "markdown",
   "id": "otherwise-copper",
   "metadata": {},
   "source": [
    "Obtain words with high frequency and Generalize terms of low frequency words"
   ]
  },
  {
   "cell_type": "code",
   "execution_count": null,
   "id": "checked-affiliate",
   "metadata": {
    "ExecuteTime": {
     "start_time": "2021-04-24T10:12:47.770Z"
    }
   },
   "outputs": [],
   "source": [
    "# Get word count of each word\n",
    "word_count = Counter(chain.from_iterable(reviews_clean.tolist()))\n",
    "\n",
    "# Check for word count less than 10\n",
    "low_freq_words = [word for word, count in word_count.items() if count <= 10]\n",
    "\n",
    "for low_freq in tqdm(low_freq_words):\n",
    "    # For each low frequency word, generalize the term\n",
    "    similar_terms = [word for word, dist in find_similar_term(low_freq, 2, 3)]\n",
    "\n",
    "    # Check if similar term has also a low frequency\n",
    "    similar_terms = set(similar_terms) - set(low_freq_words)\n",
    "    if len(similar_terms):\n",
    "        # If a similar term is high in frequency\n",
    "        # replace the word in the reviews\n",
    "        similar_term = list(similar_terms)[0]\n",
    "        reviews_clean = (reviews_clean\n",
    "                         .loc[reviews_clean.apply(lambda x: low_freq in x)]\n",
    "                         .apply(lambda words: [similar_term\n",
    "                                               if x == low_freq_term else x\n",
    "                                               for x in words]))\n",
    "        # Remove term from low freq words\n",
    "        low_freq_words.remove(low_freq)\n",
    "\n",
    "# Remove low frequency words\n",
    "mask_low_freq = reviews_clean.apply(lambda x: common_elements(x,\n",
    "                                                              low_freq_words))\n",
    "reviews_clean = (reviews_clean.loc[mask_low_freq]\n",
    "                 .apply(lambda words: [x for x in words\n",
    "                                       if x not in low_freq_words]))"
   ]
  },
  {
   "cell_type": "markdown",
   "id": "verified-former",
   "metadata": {},
   "source": [
    "# EDA"
   ]
  },
  {
   "cell_type": "code",
   "execution_count": 10,
   "id": "chief-recording",
   "metadata": {
    "ExecuteTime": {
     "end_time": "2021-04-22T11:57:09.014246Z",
     "start_time": "2021-04-22T11:57:08.955371Z"
    }
   },
   "outputs": [
    {
     "name": "stdout",
     "output_type": "stream",
     "text": [
      "Overall there are 32693 different products and variations out of 330966 reviews in our dataset.\n"
     ]
    }
   ],
   "source": [
    "print(('Overall there are {} different products and variations out of {} '\n",
    "       'reviews in our dataset.')\n",
    "      .format(df.product_id.nunique(), df.shape[0]))"
   ]
  },
  {
   "cell_type": "code",
   "execution_count": 23,
   "id": "homeless-western",
   "metadata": {
    "ExecuteTime": {
     "end_time": "2021-04-22T12:05:16.128789Z",
     "start_time": "2021-04-22T12:05:15.970209Z"
    }
   },
   "outputs": [
    {
     "data": {
      "image/png": "[encoded data removed]",
      "text/plain": [
       "<Figure size 864x432 with 1 Axes>"
      ]
     },
     "metadata": {
      "needs_background": "light"
     },
     "output_type": "display_data"
    }
   ],
   "source": [
    "top10_prod = df.product_title.value_counts().head(10)\n",
    "top10_prod.sort_values(inplace=True)\n",
    "plt.figure(figsize=(12, 6))\n",
    "\n",
    "plt.barh(top10_prod.index, top10_prod)\n",
    "plt.title('Most Reviewed video game in Amazon is GTA V')\n",
    "plt.xlabel('Count')\n",
    "plt.xlim((1000, 3200))\n",
    "plt.show()"
   ]
  },
  {
   "cell_type": "markdown",
   "id": "mineral-prospect",
   "metadata": {},
   "source": [
    "The most extremely popular videogame in our dataset is GTA V and Nintendo Amiibo. With numerous reviews, it can gain the trust of potential customers based on the reviews in search of reliable opinion. Hence, it can further lead to increase in sales for the particular product."
   ]
  },
  {
   "cell_type": "code",
   "execution_count": 22,
   "id": "deluxe-shirt",
   "metadata": {
    "ExecuteTime": {
     "end_time": "2021-04-22T12:05:10.430286Z",
     "start_time": "2021-04-22T12:05:09.994452Z"
    },
    "scrolled": false
   },
   "outputs": [
    {
     "data": {
      "image/png": "[encoded data removed]",
      "text/plain": [
       "<Figure size 1080x432 with 1 Axes>"
      ]
     },
     "metadata": {
      "needs_background": "light"
     },
     "output_type": "display_data"
    }
   ],
   "source": [
    "plt.figure(figsize=(15, 6))\n",
    "sns.kdeplot(prod_counts, shade=True)\n",
    "plt.title(f'Most products are reviewed {int(prod_counts.mean())} times.')\n",
    "plt.xlabel('Product Review Count')\n",
    "plt.show()"
   ]
  },
  {
   "cell_type": "markdown",
   "id": "molecular-failing",
   "metadata": {},
   "source": [
    "The plot above shows that rightly skewed distribution of product review counts. Some products are extremely popular reaching a scale of a thousand reviews, showcasing its reliability (because of many buyers/reviewers). In comparison, most of the products in the dataset are only reviewed around 12 times."
   ]
  },
  {
   "cell_type": "code",
   "execution_count": 81,
   "id": "thermal-mountain",
   "metadata": {
    "ExecuteTime": {
     "end_time": "2021-04-22T12:25:58.673236Z",
     "start_time": "2021-04-22T12:25:58.513767Z"
    }
   },
   "outputs": [
    {
     "data": {
      "image/png": "[encoded data removed]",
      "text/plain": [
       "<Figure size 864x576 with 1 Axes>"
      ]
     },
     "metadata": {},
     "output_type": "display_data"
    }
   ],
   "source": [
    "fig, ax = plt.subplots(figsize=(12, 8))\n",
    "data = df.verified_purchase.value_counts()\n",
    "\n",
    "wedges, texts, pct = ax.pie(data, wedgeprops=dict(width=0.3),\n",
    "                            startangle=-40, autopct=\"%.1f%%\")\n",
    "\n",
    "bbox_props = dict(boxstyle=\"square,pad=0.3\", fc=\"w\", ec=\"k\", lw=0.72)\n",
    "kw = dict(arrowprops=dict(arrowstyle=\"-\"),\n",
    "          bbox=bbox_props, zorder=0, va=\"center\")\n",
    "\n",
    "for i, p in enumerate(wedges):\n",
    "    ang = (p.theta2 - p.theta1)/2. + p.theta1\n",
    "    y = np.sin(np.deg2rad(ang))\n",
    "    x = np.cos(np.deg2rad(ang))\n",
    "    horizontalalignment = {-1: \"right\", 1: \"left\"}[int(np.sign(x))]\n",
    "    connectionstyle = \"angle,angleA=0,angleB={}\".format(ang)\n",
    "    kw[\"arrowprops\"].update({\"connectionstyle\": connectionstyle})\n",
    "    ax.annotate(data.index[i], xy=(x, y), xytext=(1.35*np.sign(x), 1.4*y),\n",
    "                horizontalalignment=horizontalalignment, **kw)\n",
    "\n",
    "ax.set_title('Majority of the products are verified purchases')\n",
    "\n",
    "plt.show()"
   ]
  },
  {
   "cell_type": "markdown",
   "id": "protected-decision",
   "metadata": {},
   "source": [
    "Out of all 330966, only 30370(9.2%) reviews are tagged as verified purchase. In the following sections, we are going to further examine these reviews to determine if they are paid or bot reviews."
   ]
  },
  {
   "cell_type": "code",
   "execution_count": 130,
   "id": "described-target",
   "metadata": {
    "ExecuteTime": {
     "end_time": "2021-04-22T12:42:40.160103Z",
     "start_time": "2021-04-22T12:42:40.001927Z"
    }
   },
   "outputs": [
    {
     "data": {
      "image/png": "[encoded data removed]",
      "text/plain": [
       "<Figure size 864x432 with 1 Axes>"
      ]
     },
     "metadata": {
      "needs_background": "light"
     },
     "output_type": "display_data"
    }
   ],
   "source": [
    "top10_cust = df.customer_id.value_counts().head(10)\n",
    "top10_cust.sort_values(inplace=True)\n",
    "plt.figure(figsize=(12, 6))\n",
    "\n",
    "plt.barh([str(cust) for cust in top10_cust.index], top10_cust)\n",
    "plt.ylabel('Cutomer')\n",
    "plt.xlabel('Count')\n",
    "plt.title('Customer 10075230 stands out with a total reviews greater than 200')\n",
    "plt.show()"
   ]
  },
  {
   "cell_type": "markdown",
   "id": "nuclear-marker",
   "metadata": {},
   "source": [
    "The plot above shows the number of reviews of the top 10 customers with the most reviews. Customer 10075230 stands out as the most active customer in the review section with 218 reviews in total. This customer will definitely will be a person of interest, suspected as a paid or a bot reviewer. Later in this report, we are going to the analyze the relationships of the customers using Network Analysis to see if these customers are connected."
   ]
  },
  {
   "cell_type": "code",
   "execution_count": 159,
   "id": "opposed-newton",
   "metadata": {
    "ExecuteTime": {
     "end_time": "2021-04-22T12:57:56.672241Z",
     "start_time": "2021-04-22T12:57:56.553265Z"
    }
   },
   "outputs": [
    {
     "data": {
      "image/png": "[encoded data removed]",
      "text/plain": [
       "<Figure size 864x432 with 1 Axes>"
      ]
     },
     "metadata": {
      "needs_background": "light"
     },
     "output_type": "display_data"
    }
   ],
   "source": [
    "plt.figure(figsize=(12, 6))\n",
    "\n",
    "plt.bar(df['star_rating'].value_counts().index,\n",
    "          df['star_rating'].value_counts())\n",
    "plt.ylabel('Count')\n",
    "plt.xlabel('Star')\n",
    "plt.title('Majority of the products have 5-star reviews')\n",
    "ylabels = [f'{y/1000:.0f}K' for y in plt.gca().get_yticks()]\n",
    "\n",
    "plt.gca().set_yticks(plt.gca().get_yticks())\n",
    "plt.gca().set_yticklabels(ylabels)\n",
    "plt.show()"
   ]
  },
  {
   "cell_type": "markdown",
   "id": "acquired-growth",
   "metadata": {},
   "source": [
    "Most of the reviews in the dataset have 5-star reviews. Either most of the products reviewed are excellent, customers are too lazy to accurately review the products, or these are fake reviews."
   ]
  },
  {
   "cell_type": "markdown",
   "id": "specific-variance",
   "metadata": {},
   "source": [
    "# FIM"
   ]
  },
  {
   "cell_type": "markdown",
   "id": "modified-flower",
   "metadata": {},
   "source": [
    "customer1: {product1, product2, product3},\n",
    "\n",
    "customer2: {product1, product2, product4}"
   ]
  },
  {
   "cell_type": "markdown",
   "id": "aggregate-punch",
   "metadata": {},
   "source": [
    "## Confidence, Lift, Covariance"
   ]
  },
  {
   "cell_type": "markdown",
   "id": "casual-airline",
   "metadata": {},
   "source": [
    "# Network"
   ]
  },
  {
   "cell_type": "markdown",
   "id": "coastal-trading",
   "metadata": {},
   "source": [
    "## Construct the Network"
   ]
  },
  {
   "cell_type": "markdown",
   "id": "pacific-motor",
   "metadata": {},
   "source": [
    "Color code based on 5 rating, scale the size of the node based on number of degrees, change the weight of the links based on prevalence of reviewed products."
   ]
  },
  {
   "cell_type": "markdown",
   "id": "elect-musical",
   "metadata": {},
   "source": [
    "## Network Properties"
   ]
  },
  {
   "cell_type": "markdown",
   "id": "oriental-ghana",
   "metadata": {},
   "source": [
    "## Centrality Measurements"
   ]
  },
  {
   "cell_type": "markdown",
   "id": "duplicate-fight",
   "metadata": {},
   "source": [
    "## Community Detection"
   ]
  },
  {
   "cell_type": "markdown",
   "id": "sitting-bathroom",
   "metadata": {},
   "source": [
    "# Review Information Network"
   ]
  },
  {
   "cell_type": "markdown",
   "id": "deadly-chaos",
   "metadata": {},
   "source": [
    "## Decompose TD-IDF Matrix of review BoW features"
   ]
  },
  {
   "cell_type": "code",
   "execution_count": 12,
   "id": "intellectual-kitchen",
   "metadata": {
    "ExecuteTime": {
     "end_time": "2021-04-23T03:14:05.286313Z",
     "start_time": "2021-04-23T03:14:05.271315Z"
    }
   },
   "outputs": [],
   "source": [
    "def plot_variance(decomposition, title, ax, xlabel='SV'):\n",
    "    \"\"\"Plot latend\"\"\"\n",
    "    var_exp = decomposition.explained_variance_ratio_\n",
    "    ax.plot(range(1, len(var_exp)+1), var_exp, color=aws_palette[0],\n",
    "            linestyle='-', marker='o', label='individual')\n",
    "\n",
    "    ax.set_xlim(0, len(var_exp)+1)\n",
    "    ax.set_xlabel(xlabel)\n",
    "    ax.set_ylabel('variance explained')\n",
    "    ax = ax.twinx()\n",
    "    ax.plot(range(1, len(var_exp)+1),\n",
    "            var_exp.cumsum(), color=aws_palette[1],\n",
    "            linestyle='-', marker='o', label='cumulative')\n",
    "    ax.set_ylabel('cumulative variance explained')\n",
    "    ax.axhline(0.9, c='g', linestyle='dashed')\n",
    "    ax.set_title(title)\n",
    "    return ax"
   ]
  },
  {
   "cell_type": "markdown",
   "id": "light-flavor",
   "metadata": {},
   "source": [
    "Decompose the bag of words features."
   ]
  },
  {
   "cell_type": "code",
   "execution_count": 14,
   "id": "concrete-surname",
   "metadata": {
    "ExecuteTime": {
     "end_time": "2021-04-23T05:18:06.203201Z",
     "start_time": "2021-04-23T04:48:48.808560Z"
    }
   },
   "outputs": [
    {
     "ename": "KeyboardInterrupt",
     "evalue": "",
     "output_type": "error",
     "traceback": [
      "\u001b[1;31m---------------------------------------------------------------------------\u001b[0m",
      "\u001b[1;31mKeyboardInterrupt\u001b[0m                         Traceback (most recent call last)",
      "    \u001b[1;31m[... skipping hidden 1 frame]\u001b[0m\n",
      "\u001b[1;32m<ipython-input-14-9c796b84c220>\u001b[0m in \u001b[0;36m<module>\u001b[1;34m\u001b[0m\n\u001b[0;32m      1\u001b[0m \u001b[0mfig\u001b[0m\u001b[1;33m,\u001b[0m \u001b[0max\u001b[0m \u001b[1;33m=\u001b[0m \u001b[0mplt\u001b[0m\u001b[1;33m.\u001b[0m\u001b[0msubplots\u001b[0m\u001b[1;33m(\u001b[0m\u001b[0mfigsize\u001b[0m\u001b[1;33m=\u001b[0m\u001b[1;33m(\u001b[0m\u001b[1;36m12\u001b[0m\u001b[1;33m,\u001b[0m \u001b[1;36m6\u001b[0m\u001b[1;33m)\u001b[0m\u001b[1;33m)\u001b[0m\u001b[1;33m\u001b[0m\u001b[1;33m\u001b[0m\u001b[0m\n\u001b[1;32m----> 2\u001b[1;33m plot_variance(TruncatedSVD(4000).fit(df_review_vec),\n\u001b[0m\u001b[0;32m      3\u001b[0m               'SVD Analysis', ax, xlabel='SV');\n",
      "\u001b[1;32mC:\\Users\\abelj\\Anaconda3\\lib\\site-packages\\sklearn\\decomposition\\_truncated_svd.py\u001b[0m in \u001b[0;36mfit\u001b[1;34m(self, X, y)\u001b[0m\n\u001b[0;32m    145\u001b[0m         \"\"\"\n\u001b[1;32m--> 146\u001b[1;33m         \u001b[0mself\u001b[0m\u001b[1;33m.\u001b[0m\u001b[0mfit_transform\u001b[0m\u001b[1;33m(\u001b[0m\u001b[0mX\u001b[0m\u001b[1;33m)\u001b[0m\u001b[1;33m\u001b[0m\u001b[1;33m\u001b[0m\u001b[0m\n\u001b[0m\u001b[0;32m    147\u001b[0m         \u001b[1;32mreturn\u001b[0m \u001b[0mself\u001b[0m\u001b[1;33m\u001b[0m\u001b[1;33m\u001b[0m\u001b[0m\n",
      "\u001b[1;32mC:\\Users\\abelj\\Anaconda3\\lib\\site-packages\\sklearn\\decomposition\\_truncated_svd.py\u001b[0m in \u001b[0;36mfit_transform\u001b[1;34m(self, X, y)\u001b[0m\n\u001b[0;32m    182\u001b[0m                                           \u001b[0mn_iter\u001b[0m\u001b[1;33m=\u001b[0m\u001b[0mself\u001b[0m\u001b[1;33m.\u001b[0m\u001b[0mn_iter\u001b[0m\u001b[1;33m,\u001b[0m\u001b[1;33m\u001b[0m\u001b[1;33m\u001b[0m\u001b[0m\n\u001b[1;32m--> 183\u001b[1;33m                                           random_state=random_state)\n\u001b[0m\u001b[0;32m    184\u001b[0m         \u001b[1;32melse\u001b[0m\u001b[1;33m:\u001b[0m\u001b[1;33m\u001b[0m\u001b[1;33m\u001b[0m\u001b[0m\n",
      "\u001b[1;32mC:\\Users\\abelj\\Anaconda3\\lib\\site-packages\\sklearn\\utils\\validation.py\u001b[0m in \u001b[0;36minner_f\u001b[1;34m(*args, **kwargs)\u001b[0m\n\u001b[0;32m     71\u001b[0m         \u001b[0mkwargs\u001b[0m\u001b[1;33m.\u001b[0m\u001b[0mupdate\u001b[0m\u001b[1;33m(\u001b[0m\u001b[1;33m{\u001b[0m\u001b[0mk\u001b[0m\u001b[1;33m:\u001b[0m \u001b[0marg\u001b[0m \u001b[1;32mfor\u001b[0m \u001b[0mk\u001b[0m\u001b[1;33m,\u001b[0m \u001b[0marg\u001b[0m \u001b[1;32min\u001b[0m \u001b[0mzip\u001b[0m\u001b[1;33m(\u001b[0m\u001b[0msig\u001b[0m\u001b[1;33m.\u001b[0m\u001b[0mparameters\u001b[0m\u001b[1;33m,\u001b[0m \u001b[0margs\u001b[0m\u001b[1;33m)\u001b[0m\u001b[1;33m}\u001b[0m\u001b[1;33m)\u001b[0m\u001b[1;33m\u001b[0m\u001b[1;33m\u001b[0m\u001b[0m\n\u001b[1;32m---> 72\u001b[1;33m         \u001b[1;32mreturn\u001b[0m \u001b[0mf\u001b[0m\u001b[1;33m(\u001b[0m\u001b[1;33m**\u001b[0m\u001b[0mkwargs\u001b[0m\u001b[1;33m)\u001b[0m\u001b[1;33m\u001b[0m\u001b[1;33m\u001b[0m\u001b[0m\n\u001b[0m\u001b[0;32m     73\u001b[0m     \u001b[1;32mreturn\u001b[0m \u001b[0minner_f\u001b[0m\u001b[1;33m\u001b[0m\u001b[1;33m\u001b[0m\u001b[0m\n",
      "\u001b[1;32mC:\\Users\\abelj\\Anaconda3\\lib\\site-packages\\sklearn\\utils\\extmath.py\u001b[0m in \u001b[0;36mrandomized_svd\u001b[1;34m(M, n_components, n_oversamples, n_iter, power_iteration_normalizer, transpose, flip_sign, random_state)\u001b[0m\n\u001b[0;32m    351\u001b[0m         \u001b[0mpower_iteration_normalizer\u001b[0m\u001b[1;33m=\u001b[0m\u001b[0mpower_iteration_normalizer\u001b[0m\u001b[1;33m,\u001b[0m\u001b[1;33m\u001b[0m\u001b[1;33m\u001b[0m\u001b[0m\n\u001b[1;32m--> 352\u001b[1;33m         random_state=random_state)\n\u001b[0m\u001b[0;32m    353\u001b[0m \u001b[1;33m\u001b[0m\u001b[0m\n",
      "\u001b[1;32mC:\\Users\\abelj\\Anaconda3\\lib\\site-packages\\sklearn\\utils\\validation.py\u001b[0m in \u001b[0;36minner_f\u001b[1;34m(*args, **kwargs)\u001b[0m\n\u001b[0;32m     71\u001b[0m         \u001b[0mkwargs\u001b[0m\u001b[1;33m.\u001b[0m\u001b[0mupdate\u001b[0m\u001b[1;33m(\u001b[0m\u001b[1;33m{\u001b[0m\u001b[0mk\u001b[0m\u001b[1;33m:\u001b[0m \u001b[0marg\u001b[0m \u001b[1;32mfor\u001b[0m \u001b[0mk\u001b[0m\u001b[1;33m,\u001b[0m \u001b[0marg\u001b[0m \u001b[1;32min\u001b[0m \u001b[0mzip\u001b[0m\u001b[1;33m(\u001b[0m\u001b[0msig\u001b[0m\u001b[1;33m.\u001b[0m\u001b[0mparameters\u001b[0m\u001b[1;33m,\u001b[0m \u001b[0margs\u001b[0m\u001b[1;33m)\u001b[0m\u001b[1;33m}\u001b[0m\u001b[1;33m)\u001b[0m\u001b[1;33m\u001b[0m\u001b[1;33m\u001b[0m\u001b[0m\n\u001b[1;32m---> 72\u001b[1;33m         \u001b[1;32mreturn\u001b[0m \u001b[0mf\u001b[0m\u001b[1;33m(\u001b[0m\u001b[1;33m**\u001b[0m\u001b[0mkwargs\u001b[0m\u001b[1;33m)\u001b[0m\u001b[1;33m\u001b[0m\u001b[1;33m\u001b[0m\u001b[0m\n\u001b[0m\u001b[0;32m     73\u001b[0m     \u001b[1;32mreturn\u001b[0m \u001b[0minner_f\u001b[0m\u001b[1;33m\u001b[0m\u001b[1;33m\u001b[0m\u001b[0m\n",
      "\u001b[1;32mC:\\Users\\abelj\\Anaconda3\\lib\\site-packages\\sklearn\\utils\\extmath.py\u001b[0m in \u001b[0;36mrandomized_range_finder\u001b[1;34m(A, size, n_iter, power_iteration_normalizer, random_state)\u001b[0m\n\u001b[0;32m    234\u001b[0m             \u001b[0mQ\u001b[0m\u001b[1;33m,\u001b[0m \u001b[0m_\u001b[0m \u001b[1;33m=\u001b[0m \u001b[0mlinalg\u001b[0m\u001b[1;33m.\u001b[0m\u001b[0mlu\u001b[0m\u001b[1;33m(\u001b[0m\u001b[0msafe_sparse_dot\u001b[0m\u001b[1;33m(\u001b[0m\u001b[0mA\u001b[0m\u001b[1;33m,\u001b[0m \u001b[0mQ\u001b[0m\u001b[1;33m)\u001b[0m\u001b[1;33m,\u001b[0m \u001b[0mpermute_l\u001b[0m\u001b[1;33m=\u001b[0m\u001b[1;32mTrue\u001b[0m\u001b[1;33m)\u001b[0m\u001b[1;33m\u001b[0m\u001b[1;33m\u001b[0m\u001b[0m\n\u001b[1;32m--> 235\u001b[1;33m             \u001b[0mQ\u001b[0m\u001b[1;33m,\u001b[0m \u001b[0m_\u001b[0m \u001b[1;33m=\u001b[0m \u001b[0mlinalg\u001b[0m\u001b[1;33m.\u001b[0m\u001b[0mlu\u001b[0m\u001b[1;33m(\u001b[0m\u001b[0msafe_sparse_dot\u001b[0m\u001b[1;33m(\u001b[0m\u001b[0mA\u001b[0m\u001b[1;33m.\u001b[0m\u001b[0mT\u001b[0m\u001b[1;33m,\u001b[0m \u001b[0mQ\u001b[0m\u001b[1;33m)\u001b[0m\u001b[1;33m,\u001b[0m \u001b[0mpermute_l\u001b[0m\u001b[1;33m=\u001b[0m\u001b[1;32mTrue\u001b[0m\u001b[1;33m)\u001b[0m\u001b[1;33m\u001b[0m\u001b[1;33m\u001b[0m\u001b[0m\n\u001b[0m\u001b[0;32m    236\u001b[0m         \u001b[1;32melif\u001b[0m \u001b[0mpower_iteration_normalizer\u001b[0m \u001b[1;33m==\u001b[0m \u001b[1;34m'QR'\u001b[0m\u001b[1;33m:\u001b[0m\u001b[1;33m\u001b[0m\u001b[1;33m\u001b[0m\u001b[0m\n",
      "\u001b[1;31mKeyboardInterrupt\u001b[0m: ",
      "\nDuring handling of the above exception, another exception occurred:\n",
      "\u001b[1;31mKeyboardInterrupt\u001b[0m                         Traceback (most recent call last)",
      "\u001b[1;32mC:\\Users\\abelj\\Anaconda3\\lib\\site-packages\\IPython\\core\\interactiveshell.py\u001b[0m in \u001b[0;36mrun_code\u001b[1;34m(self, code_obj, result, async_)\u001b[0m\n\u001b[0;32m   3425\u001b[0m             \u001b[0mself\u001b[0m\u001b[1;33m.\u001b[0m\u001b[0mshowtraceback\u001b[0m\u001b[1;33m(\u001b[0m\u001b[0mexception_only\u001b[0m\u001b[1;33m=\u001b[0m\u001b[1;32mTrue\u001b[0m\u001b[1;33m)\u001b[0m\u001b[1;33m\u001b[0m\u001b[1;33m\u001b[0m\u001b[0m\n\u001b[0;32m   3426\u001b[0m             \u001b[0mwarn\u001b[0m\u001b[1;33m(\u001b[0m\u001b[1;34m\"To exit: use 'exit', 'quit', or Ctrl-D.\"\u001b[0m\u001b[1;33m,\u001b[0m \u001b[0mstacklevel\u001b[0m\u001b[1;33m=\u001b[0m\u001b[1;36m1\u001b[0m\u001b[1;33m)\u001b[0m\u001b[1;33m\u001b[0m\u001b[1;33m\u001b[0m\u001b[0m\n\u001b[1;32m-> 3427\u001b[1;33m         \u001b[1;32mexcept\u001b[0m \u001b[0mself\u001b[0m\u001b[1;33m.\u001b[0m\u001b[0mcustom_exceptions\u001b[0m\u001b[1;33m:\u001b[0m\u001b[1;33m\u001b[0m\u001b[1;33m\u001b[0m\u001b[0m\n\u001b[0m\u001b[0;32m   3428\u001b[0m             \u001b[0metype\u001b[0m\u001b[1;33m,\u001b[0m \u001b[0mvalue\u001b[0m\u001b[1;33m,\u001b[0m \u001b[0mtb\u001b[0m \u001b[1;33m=\u001b[0m \u001b[0msys\u001b[0m\u001b[1;33m.\u001b[0m\u001b[0mexc_info\u001b[0m\u001b[1;33m(\u001b[0m\u001b[1;33m)\u001b[0m\u001b[1;33m\u001b[0m\u001b[1;33m\u001b[0m\u001b[0m\n\u001b[0;32m   3429\u001b[0m             \u001b[1;32mif\u001b[0m \u001b[0mresult\u001b[0m \u001b[1;32mis\u001b[0m \u001b[1;32mnot\u001b[0m \u001b[1;32mNone\u001b[0m\u001b[1;33m:\u001b[0m\u001b[1;33m\u001b[0m\u001b[1;33m\u001b[0m\u001b[0m\n",
      "\u001b[1;31mKeyboardInterrupt\u001b[0m: "
     ]
    },
    {
     "data": {
      "image/png": "[encoded data removed]",
      "text/plain": [
       "<Figure size 864x432 with 1 Axes>"
      ]
     },
     "metadata": {
      "needs_background": "light"
     },
     "output_type": "display_data"
    }
   ],
   "source": [
    "fig, ax = plt.subplots(figsize=(12, 6))\n",
    "plot_variance(TruncatedSVD(4000).fit(df_review_vec),\n",
    "              'SVD Analysis', ax, xlabel='SV');"
   ]
  },
  {
   "cell_type": "markdown",
   "id": "adolescent-oregon",
   "metadata": {},
   "source": [
    "## Agglomorative Clustering"
   ]
  },
  {
   "cell_type": "markdown",
   "id": "young-stake",
   "metadata": {
    "heading_collapsed": true
   },
   "source": [
    "## Customer Review Frame Network"
   ]
  },
  {
   "cell_type": "markdown",
   "id": "disciplinary-writing",
   "metadata": {},
   "source": [
    "# Conclusion"
   ]
  },
  {
   "cell_type": "markdown",
   "id": "beneficial-determination",
   "metadata": {},
   "source": [
    "# Recommendation"
   ]
  },
  {
   "cell_type": "markdown",
   "id": "instant-ladder",
   "metadata": {},
   "source": [
    "# Reference"
   ]
  }
 ],
 "metadata": {
  "kernelspec": {
   "display_name": "Python 3",
   "language": "python",
   "name": "python3"
  },
  "toc": {
   "base_numbering": 1,
   "nav_menu": {},
   "number_sections": true,
   "sideBar": true,
   "skip_h1_title": false,
   "title_cell": "Table of Contents",
   "title_sidebar": "Contents",
   "toc_cell": false,
   "toc_position": {
    "height": "789px",
    "left": "176px",
    "top": "110px",
    "width": "384px"
   },
   "toc_section_display": true,
   "toc_window_display": true
  },
  "varInspector": {
   "cols": {
    "lenName": 16,
    "lenType": 16,
    "lenVar": 40
   },
   "kernels_config": {
    "python": {
     "delete_cmd_postfix": "",
     "delete_cmd_prefix": "del ",
     "library": "var_list.py",
     "varRefreshCmd": "print(var_dic_list())"
    },
    "r": {
     "delete_cmd_postfix": ") ",
     "delete_cmd_prefix": "rm(",
     "library": "var_list.r",
     "varRefreshCmd": "cat(var_dic_list()) "
    }
   },
   "types_to_exclude": [
    "module",
    "function",
    "builtin_function_or_method",
    "instance",
    "_Feature"
   ],
   "window_display": false
  }
 },
 "nbformat": 4,
 "nbformat_minor": 5
}
