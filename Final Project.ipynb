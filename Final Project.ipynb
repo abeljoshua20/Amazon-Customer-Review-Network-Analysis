{
 "cells": [
  {
   "cell_type": "markdown",
   "id": "exempt-humidity",
   "metadata": {},
   "source": [
    "# Identifying potential Bot or Paid reviewers using Amazon customer review data using Network Analysis\n",
    "**By: SLT11A**\n",
    "* Abel Johua Cruzada\n",
    "* James Gonzales"
   ]
  },
  {
   "cell_type": "markdown",
   "id": "delayed-integral",
   "metadata": {},
   "source": [
    "# Executive Summary"
   ]
  },
  {
   "cell_type": "markdown",
   "id": "successful-luxury",
   "metadata": {},
   "source": []
  },
  {
   "cell_type": "code",
   "execution_count": 4,
   "id": "protected-syndication",
   "metadata": {
    "ExecuteTime": {
     "end_time": "2021-04-21T03:41:22.440642Z",
     "start_time": "2021-04-21T03:41:22.427676Z"
    }
   },
   "outputs": [],
   "source": [
    "import os\n",
    "import pandas as pd\n",
    "import numpy as np\n",
    "import matplotlib.pyplot as plt\n",
    "import seaborn as sns\n",
    "\n",
    "import networkx as nx\n",
    "import networkx_abel as nxa"
   ]
  },
  {
   "cell_type": "markdown",
   "id": "intense-antibody",
   "metadata": {},
   "source": [
    "# Introduction"
   ]
  },
  {
   "cell_type": "markdown",
   "id": "republican-official",
   "metadata": {},
   "source": []
  },
  {
   "cell_type": "markdown",
   "id": "handmade-easter",
   "metadata": {},
   "source": [
    "# Problem Statement"
   ]
  },
  {
   "cell_type": "markdown",
   "id": "aging-conflict",
   "metadata": {},
   "source": [
    "# Objectives"
   ]
  },
  {
   "cell_type": "markdown",
   "id": "running-google",
   "metadata": {},
   "source": [
    "# Data Description"
   ]
  },
  {
   "cell_type": "markdown",
   "id": "solid-shock",
   "metadata": {},
   "source": [
    "# Methodology"
   ]
  },
  {
   "cell_type": "markdown",
   "id": "impressed-nickel",
   "metadata": {},
   "source": [
    "# Data Preprocessing"
   ]
  },
  {
   "cell_type": "markdown",
   "id": "loving-triangle",
   "metadata": {},
   "source": [
    "Only include data from 2015 onwards."
   ]
  },
  {
   "cell_type": "raw",
   "id": "southeast-optimization",
   "metadata": {
    "ExecuteTime": {
     "end_time": "2021-04-21T03:49:41.701759Z",
     "start_time": "2021-04-21T03:49:21.300383Z"
    }
   },
   "source": [
    "directory = r'Data\\amazon_reviews_us_Video_Games_v1_00.tsv'\n",
    "fn = 'amazon_reviews_us_Video_Games_v1_00.tsv'\n",
    "fp = os.path.join(directory, fn)\n",
    "df = pd.read_csv(fp, sep='\\t', error_bad_lines=False)\n",
    "\n",
    "# Filter date \n",
    "mask_date = df.review_date >= '2015-01-01'\n",
    "df = df.loc[mask_date]\n",
    "\n",
    "# Save to csv\n",
    "df.to_csv('amazon_reviews_video_games.csv')"
   ]
  },
  {
   "cell_type": "code",
   "execution_count": 11,
   "id": "complimentary-columbus",
   "metadata": {
    "ExecuteTime": {
     "end_time": "2021-04-21T03:46:58.318855Z",
     "start_time": "2021-04-21T03:46:54.603988Z"
    }
   },
   "outputs": [],
   "source": [
    "df = pd.read_csv('amazon_reviews_video_games.csv', index_col=0)"
   ]
  },
  {
   "cell_type": "code",
   "execution_count": 15,
   "id": "opened-bishop",
   "metadata": {
    "ExecuteTime": {
     "end_time": "2021-04-21T03:48:02.328749Z",
     "start_time": "2021-04-21T03:48:02.300823Z"
    }
   },
   "outputs": [
    {
     "data": {
      "text/html": [
       "<div>\n",
       "<style scoped>\n",
       "    .dataframe tbody tr th:only-of-type {\n",
       "        vertical-align: middle;\n",
       "    }\n",
       "\n",
       "    .dataframe tbody tr th {\n",
       "        vertical-align: top;\n",
       "    }\n",
       "\n",
       "    .dataframe thead th {\n",
       "        text-align: right;\n",
       "    }\n",
       "</style>\n",
       "<table border=\"1\" class=\"dataframe\">\n",
       "  <thead>\n",
       "    <tr style=\"text-align: right;\">\n",
       "      <th></th>\n",
       "      <th>marketplace</th>\n",
       "      <th>customer_id</th>\n",
       "      <th>review_id</th>\n",
       "      <th>product_id</th>\n",
       "      <th>product_parent</th>\n",
       "      <th>product_title</th>\n",
       "      <th>product_category</th>\n",
       "      <th>star_rating</th>\n",
       "      <th>helpful_votes</th>\n",
       "      <th>total_votes</th>\n",
       "      <th>vine</th>\n",
       "      <th>verified_purchase</th>\n",
       "      <th>review_headline</th>\n",
       "      <th>review_body</th>\n",
       "      <th>review_date</th>\n",
       "    </tr>\n",
       "  </thead>\n",
       "  <tbody>\n",
       "    <tr>\n",
       "      <th>0</th>\n",
       "      <td>US</td>\n",
       "      <td>12039526</td>\n",
       "      <td>RTIS3L2M1F5SM</td>\n",
       "      <td>B001CXYMFS</td>\n",
       "      <td>737716809</td>\n",
       "      <td>Thrustmaster T-Flight Hotas X Flight Stick</td>\n",
       "      <td>Video Games</td>\n",
       "      <td>5</td>\n",
       "      <td>0</td>\n",
       "      <td>0</td>\n",
       "      <td>N</td>\n",
       "      <td>Y</td>\n",
       "      <td>an amazing joystick. I especially love that yo...</td>\n",
       "      <td>Used this for Elite Dangerous on my mac, an am...</td>\n",
       "      <td>2015-08-31</td>\n",
       "    </tr>\n",
       "    <tr>\n",
       "      <th>1</th>\n",
       "      <td>US</td>\n",
       "      <td>9636577</td>\n",
       "      <td>R1ZV7R40OLHKD</td>\n",
       "      <td>B00M920ND6</td>\n",
       "      <td>569686175</td>\n",
       "      <td>Tonsee 6 buttons Wireless Optical Silent Gamin...</td>\n",
       "      <td>Video Games</td>\n",
       "      <td>5</td>\n",
       "      <td>0</td>\n",
       "      <td>0</td>\n",
       "      <td>N</td>\n",
       "      <td>Y</td>\n",
       "      <td>Definitely a silent mouse... Not a single clic...</td>\n",
       "      <td>Loved it,  I didn't even realise it was a gami...</td>\n",
       "      <td>2015-08-31</td>\n",
       "    </tr>\n",
       "    <tr>\n",
       "      <th>2</th>\n",
       "      <td>US</td>\n",
       "      <td>2331478</td>\n",
       "      <td>R3BH071QLH8QMC</td>\n",
       "      <td>B0029CSOD2</td>\n",
       "      <td>98937668</td>\n",
       "      <td>Hidden Mysteries: Titanic Secrets of the Fatef...</td>\n",
       "      <td>Video Games</td>\n",
       "      <td>1</td>\n",
       "      <td>0</td>\n",
       "      <td>1</td>\n",
       "      <td>N</td>\n",
       "      <td>Y</td>\n",
       "      <td>One Star</td>\n",
       "      <td>poor quality work and not as it is advertised.</td>\n",
       "      <td>2015-08-31</td>\n",
       "    </tr>\n",
       "    <tr>\n",
       "      <th>3</th>\n",
       "      <td>US</td>\n",
       "      <td>52495923</td>\n",
       "      <td>R127K9NTSXA2YH</td>\n",
       "      <td>B00GOOSV98</td>\n",
       "      <td>23143350</td>\n",
       "      <td>GelTabz Performance Thumb Grips - PlayStation ...</td>\n",
       "      <td>Video Games</td>\n",
       "      <td>3</td>\n",
       "      <td>0</td>\n",
       "      <td>0</td>\n",
       "      <td>N</td>\n",
       "      <td>Y</td>\n",
       "      <td>good, but could be bettee</td>\n",
       "      <td>nice, but tend to slip away from stick in inte...</td>\n",
       "      <td>2015-08-31</td>\n",
       "    </tr>\n",
       "    <tr>\n",
       "      <th>4</th>\n",
       "      <td>US</td>\n",
       "      <td>14533949</td>\n",
       "      <td>R32ZWUXDJPW27Q</td>\n",
       "      <td>B00Y074JOM</td>\n",
       "      <td>821342511</td>\n",
       "      <td>Zero Suit Samus amiibo - Japan Import (Super S...</td>\n",
       "      <td>Video Games</td>\n",
       "      <td>4</td>\n",
       "      <td>0</td>\n",
       "      <td>0</td>\n",
       "      <td>N</td>\n",
       "      <td>Y</td>\n",
       "      <td>Great but flawed.</td>\n",
       "      <td>Great amiibo, great for collecting. Quality ma...</td>\n",
       "      <td>2015-08-31</td>\n",
       "    </tr>\n",
       "    <tr>\n",
       "      <th>...</th>\n",
       "      <td>...</td>\n",
       "      <td>...</td>\n",
       "      <td>...</td>\n",
       "      <td>...</td>\n",
       "      <td>...</td>\n",
       "      <td>...</td>\n",
       "      <td>...</td>\n",
       "      <td>...</td>\n",
       "      <td>...</td>\n",
       "      <td>...</td>\n",
       "      <td>...</td>\n",
       "      <td>...</td>\n",
       "      <td>...</td>\n",
       "      <td>...</td>\n",
       "      <td>...</td>\n",
       "    </tr>\n",
       "    <tr>\n",
       "      <th>330966</th>\n",
       "      <td>US</td>\n",
       "      <td>48676861</td>\n",
       "      <td>RAO65696L734T</td>\n",
       "      <td>B00I6E6SH6</td>\n",
       "      <td>764859352</td>\n",
       "      <td>Minecraft - Xbox 360</td>\n",
       "      <td>Video Games</td>\n",
       "      <td>5</td>\n",
       "      <td>0</td>\n",
       "      <td>0</td>\n",
       "      <td>N</td>\n",
       "      <td>Y</td>\n",
       "      <td>Five Stars</td>\n",
       "      <td>Kids love it</td>\n",
       "      <td>2015-01-01</td>\n",
       "    </tr>\n",
       "    <tr>\n",
       "      <th>330967</th>\n",
       "      <td>US</td>\n",
       "      <td>1418286</td>\n",
       "      <td>R346YXXUPCANQR</td>\n",
       "      <td>B00NFXON1Q</td>\n",
       "      <td>452315295</td>\n",
       "      <td>Xbox One 500GB Console - Assassin's Creed Unit...</td>\n",
       "      <td>Video Games</td>\n",
       "      <td>5</td>\n",
       "      <td>1</td>\n",
       "      <td>3</td>\n",
       "      <td>N</td>\n",
       "      <td>Y</td>\n",
       "      <td>Five Stars</td>\n",
       "      <td>Awesome!!</td>\n",
       "      <td>2015-01-01</td>\n",
       "    </tr>\n",
       "    <tr>\n",
       "      <th>330968</th>\n",
       "      <td>US</td>\n",
       "      <td>41367567</td>\n",
       "      <td>R1MLTP0U2XT9MQ</td>\n",
       "      <td>B00006D2G9</td>\n",
       "      <td>583333890</td>\n",
       "      <td>Rally Fusion: Race of Champions</td>\n",
       "      <td>Video Games</td>\n",
       "      <td>5</td>\n",
       "      <td>0</td>\n",
       "      <td>0</td>\n",
       "      <td>N</td>\n",
       "      <td>Y</td>\n",
       "      <td>VERSION IT WORKS FINE GOT BOTH AND IT IS FUN</td>\n",
       "      <td>LONG ASYOU DO NOT GET P.A.L. VERSION IT WORKS ...</td>\n",
       "      <td>2015-01-01</td>\n",
       "    </tr>\n",
       "    <tr>\n",
       "      <th>330969</th>\n",
       "      <td>US</td>\n",
       "      <td>26497338</td>\n",
       "      <td>R3NXTR8K2OKSRZ</td>\n",
       "      <td>B008M4BNQ6</td>\n",
       "      <td>637976469</td>\n",
       "      <td>Turtle Beach - Ear Force XLa Gaming Headset - ...</td>\n",
       "      <td>Video Games</td>\n",
       "      <td>4</td>\n",
       "      <td>0</td>\n",
       "      <td>0</td>\n",
       "      <td>N</td>\n",
       "      <td>Y</td>\n",
       "      <td>Four Stars</td>\n",
       "      <td>My son they are good, but maybe would like the...</td>\n",
       "      <td>2015-01-01</td>\n",
       "    </tr>\n",
       "    <tr>\n",
       "      <th>330970</th>\n",
       "      <td>US</td>\n",
       "      <td>33610644</td>\n",
       "      <td>R1IPDKKKIR9F1C</td>\n",
       "      <td>B003ZSP0WW</td>\n",
       "      <td>339867013</td>\n",
       "      <td>Microsoft Xbox360 Wireless Controller Microsoft</td>\n",
       "      <td>Video Games</td>\n",
       "      <td>5</td>\n",
       "      <td>0</td>\n",
       "      <td>0</td>\n",
       "      <td>N</td>\n",
       "      <td>Y</td>\n",
       "      <td>Exceptional service</td>\n",
       "      <td>Works great and they were delivered on time</td>\n",
       "      <td>2015-01-01</td>\n",
       "    </tr>\n",
       "  </tbody>\n",
       "</table>\n",
       "<p>330966 rows × 15 columns</p>\n",
       "</div>"
      ],
      "text/plain": [
       "       marketplace  customer_id       review_id  product_id  product_parent  \\\n",
       "0               US     12039526   RTIS3L2M1F5SM  B001CXYMFS       737716809   \n",
       "1               US      9636577   R1ZV7R40OLHKD  B00M920ND6       569686175   \n",
       "2               US      2331478  R3BH071QLH8QMC  B0029CSOD2        98937668   \n",
       "3               US     52495923  R127K9NTSXA2YH  B00GOOSV98        23143350   \n",
       "4               US     14533949  R32ZWUXDJPW27Q  B00Y074JOM       821342511   \n",
       "...            ...          ...             ...         ...             ...   \n",
       "330966          US     48676861   RAO65696L734T  B00I6E6SH6       764859352   \n",
       "330967          US      1418286  R346YXXUPCANQR  B00NFXON1Q       452315295   \n",
       "330968          US     41367567  R1MLTP0U2XT9MQ  B00006D2G9       583333890   \n",
       "330969          US     26497338  R3NXTR8K2OKSRZ  B008M4BNQ6       637976469   \n",
       "330970          US     33610644  R1IPDKKKIR9F1C  B003ZSP0WW       339867013   \n",
       "\n",
       "                                            product_title product_category  \\\n",
       "0              Thrustmaster T-Flight Hotas X Flight Stick      Video Games   \n",
       "1       Tonsee 6 buttons Wireless Optical Silent Gamin...      Video Games   \n",
       "2       Hidden Mysteries: Titanic Secrets of the Fatef...      Video Games   \n",
       "3       GelTabz Performance Thumb Grips - PlayStation ...      Video Games   \n",
       "4       Zero Suit Samus amiibo - Japan Import (Super S...      Video Games   \n",
       "...                                                   ...              ...   \n",
       "330966                               Minecraft - Xbox 360      Video Games   \n",
       "330967  Xbox One 500GB Console - Assassin's Creed Unit...      Video Games   \n",
       "330968                    Rally Fusion: Race of Champions      Video Games   \n",
       "330969  Turtle Beach - Ear Force XLa Gaming Headset - ...      Video Games   \n",
       "330970    Microsoft Xbox360 Wireless Controller Microsoft      Video Games   \n",
       "\n",
       "        star_rating  helpful_votes  total_votes vine verified_purchase  \\\n",
       "0                 5              0            0    N                 Y   \n",
       "1                 5              0            0    N                 Y   \n",
       "2                 1              0            1    N                 Y   \n",
       "3                 3              0            0    N                 Y   \n",
       "4                 4              0            0    N                 Y   \n",
       "...             ...            ...          ...  ...               ...   \n",
       "330966            5              0            0    N                 Y   \n",
       "330967            5              1            3    N                 Y   \n",
       "330968            5              0            0    N                 Y   \n",
       "330969            4              0            0    N                 Y   \n",
       "330970            5              0            0    N                 Y   \n",
       "\n",
       "                                          review_headline  \\\n",
       "0       an amazing joystick. I especially love that yo...   \n",
       "1       Definitely a silent mouse... Not a single clic...   \n",
       "2                                                One Star   \n",
       "3                               good, but could be bettee   \n",
       "4                                       Great but flawed.   \n",
       "...                                                   ...   \n",
       "330966                                         Five Stars   \n",
       "330967                                         Five Stars   \n",
       "330968       VERSION IT WORKS FINE GOT BOTH AND IT IS FUN   \n",
       "330969                                         Four Stars   \n",
       "330970                                Exceptional service   \n",
       "\n",
       "                                              review_body review_date  \n",
       "0       Used this for Elite Dangerous on my mac, an am...  2015-08-31  \n",
       "1       Loved it,  I didn't even realise it was a gami...  2015-08-31  \n",
       "2          poor quality work and not as it is advertised.  2015-08-31  \n",
       "3       nice, but tend to slip away from stick in inte...  2015-08-31  \n",
       "4       Great amiibo, great for collecting. Quality ma...  2015-08-31  \n",
       "...                                                   ...         ...  \n",
       "330966                                       Kids love it  2015-01-01  \n",
       "330967                                          Awesome!!  2015-01-01  \n",
       "330968  LONG ASYOU DO NOT GET P.A.L. VERSION IT WORKS ...  2015-01-01  \n",
       "330969  My son they are good, but maybe would like the...  2015-01-01  \n",
       "330970        Works great and they were delivered on time  2015-01-01  \n",
       "\n",
       "[330966 rows x 15 columns]"
      ]
     },
     "execution_count": 15,
     "metadata": {},
     "output_type": "execute_result"
    }
   ],
   "source": [
    "df"
   ]
  },
  {
   "cell_type": "code",
   "execution_count": null,
   "id": "official-sandwich",
   "metadata": {},
   "outputs": [],
   "source": []
  },
  {
   "cell_type": "markdown",
   "id": "partial-recommendation",
   "metadata": {},
   "source": [
    "## Text Preprocessing"
   ]
  },
  {
   "cell_type": "markdown",
   "id": "digital-division",
   "metadata": {},
   "source": [
    "* Remove Stopwords, High Frequency Words.\n",
    "* Tokenization"
   ]
  },
  {
   "cell_type": "markdown",
   "id": "accurate-subscription",
   "metadata": {},
   "source": [
    "# EDA"
   ]
  },
  {
   "cell_type": "markdown",
   "id": "incoming-overhead",
   "metadata": {},
   "source": [
    "# FIM"
   ]
  },
  {
   "cell_type": "markdown",
   "id": "linear-graduate",
   "metadata": {},
   "source": [
    "customer1: {product1, product2, product3},\n",
    "\n",
    "customer2: {product1, product2, product4}"
   ]
  },
  {
   "cell_type": "markdown",
   "id": "independent-courtesy",
   "metadata": {},
   "source": [
    "## Confidence, Lift, Covariance"
   ]
  },
  {
   "cell_type": "markdown",
   "id": "scheduled-ready",
   "metadata": {},
   "source": [
    "# Network"
   ]
  },
  {
   "cell_type": "markdown",
   "id": "tired-ceramic",
   "metadata": {},
   "source": [
    "## Construct the Network"
   ]
  },
  {
   "cell_type": "markdown",
   "id": "outdoor-tyler",
   "metadata": {},
   "source": [
    "Color code based on 5 rating, scale the size of the node based on number of degrees, change the weight of the links based on prevalence of reviewed products."
   ]
  },
  {
   "cell_type": "markdown",
   "id": "together-kernel",
   "metadata": {},
   "source": [
    "## Network Properties"
   ]
  },
  {
   "cell_type": "markdown",
   "id": "initial-change",
   "metadata": {},
   "source": [
    "## Centrality Measurements"
   ]
  },
  {
   "cell_type": "markdown",
   "id": "harmful-journalist",
   "metadata": {},
   "source": [
    "## Community Detection"
   ]
  },
  {
   "cell_type": "markdown",
   "id": "young-medicare",
   "metadata": {},
   "source": [
    "# Review Information Network"
   ]
  },
  {
   "cell_type": "markdown",
   "id": "scientific-central",
   "metadata": {},
   "source": [
    "Co-occurrence of words in the review."
   ]
  },
  {
   "cell_type": "markdown",
   "id": "perceived-working",
   "metadata": {},
   "source": [
    "## Cosine Similarity"
   ]
  },
  {
   "cell_type": "markdown",
   "id": "productive-relaxation",
   "metadata": {},
   "source": [
    "## Clustering"
   ]
  },
  {
   "cell_type": "markdown",
   "id": "electoral-timeline",
   "metadata": {
    "heading_collapsed": true
   },
   "source": [
    "## Customer Review Frame Network"
   ]
  },
  {
   "cell_type": "markdown",
   "id": "technological-florida",
   "metadata": {},
   "source": [
    "# Conclusion"
   ]
  },
  {
   "cell_type": "markdown",
   "id": "advance-mixture",
   "metadata": {},
   "source": [
    "# Recommendation"
   ]
  },
  {
   "cell_type": "markdown",
   "id": "thick-simon",
   "metadata": {},
   "source": [
    "# Reference"
   ]
  }
 ],
 "metadata": {
  "kernelspec": {
   "display_name": "Python 3",
   "language": "python",
   "name": "python3"
  },
  "language_info": {
   "codemirror_mode": {
    "name": "ipython",
    "version": 3
   },
   "file_extension": ".py",
   "mimetype": "text/x-python",
   "name": "python",
   "nbconvert_exporter": "python",
   "pygments_lexer": "ipython3",
   "version": "3.7.9"
  },
  "toc": {
   "base_numbering": 1,
   "nav_menu": {},
   "number_sections": true,
   "sideBar": true,
   "skip_h1_title": false,
   "title_cell": "Table of Contents",
   "title_sidebar": "Contents",
   "toc_cell": false,
   "toc_position": {},
   "toc_section_display": true,
   "toc_window_display": true
  },
  "varInspector": {
   "cols": {
    "lenName": 16,
    "lenType": 16,
    "lenVar": 40
   },
   "kernels_config": {
    "python": {
     "delete_cmd_postfix": "",
     "delete_cmd_prefix": "del ",
     "library": "var_list.py",
     "varRefreshCmd": "print(var_dic_list())"
    },
    "r": {
     "delete_cmd_postfix": ") ",
     "delete_cmd_prefix": "rm(",
     "library": "var_list.r",
     "varRefreshCmd": "cat(var_dic_list()) "
    }
   },
   "types_to_exclude": [
    "module",
    "function",
    "builtin_function_or_method",
    "instance",
    "_Feature"
   ],
   "window_display": false
  }
 },
 "nbformat": 4,
 "nbformat_minor": 5
}
