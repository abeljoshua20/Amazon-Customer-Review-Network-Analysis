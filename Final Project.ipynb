{
 "cells": [
  {
   "cell_type": "markdown",
   "id": "selected-universe",
   "metadata": {},
   "source": [
    "# Identifying potential Bot or Paid reviewers using Amazon customer review data using Network Analysis\n",
    "**By: SLT11A**\n",
    "* Abel Johua Cruzada\n",
    "* James Gonzales"
   ]
  },
  {
   "cell_type": "markdown",
   "id": "governmental-kidney",
   "metadata": {},
   "source": [
    "# Executive Summary"
   ]
  },
  {
   "cell_type": "markdown",
   "id": "healthy-difficulty",
   "metadata": {},
   "source": []
  },
  {
   "cell_type": "code",
   "execution_count": 29,
   "id": "editorial-indicator",
   "metadata": {
    "ExecuteTime": {
     "end_time": "2021-04-21T04:30:53.381146Z",
     "start_time": "2021-04-21T04:30:48.049136Z"
    }
   },
   "outputs": [],
   "source": [
    "import os\n",
    "import pandas as pd\n",
    "import numpy as np\n",
    "import matplotlib.pyplot as plt\n",
    "import seaborn as sns\n",
    "\n",
    "import networkx as nx\n",
    "import networkx_abel as nxa\n",
    "\n",
    "import regex as re\n",
    "from nltk.corpus import stopwords\n",
    "from gensim.utils import simple_preprocess"
   ]
  },
  {
   "cell_type": "markdown",
   "id": "seeing-standard",
   "metadata": {},
   "source": [
    "# Introduction"
   ]
  },
  {
   "cell_type": "markdown",
   "id": "cooked-debut",
   "metadata": {},
   "source": []
  },
  {
   "cell_type": "markdown",
   "id": "suburban-israel",
   "metadata": {},
   "source": [
    "# Problem Statement"
   ]
  },
  {
   "cell_type": "markdown",
   "id": "settled-hotel",
   "metadata": {},
   "source": [
    "# Objectives"
   ]
  },
  {
   "cell_type": "markdown",
   "id": "cognitive-promise",
   "metadata": {},
   "source": [
    "# Data Description"
   ]
  },
  {
   "cell_type": "markdown",
   "id": "bright-republic",
   "metadata": {},
   "source": [
    "# Methodology"
   ]
  },
  {
   "cell_type": "markdown",
   "id": "august-niagara",
   "metadata": {},
   "source": [
    "# Data Preprocessing"
   ]
  },
  {
   "cell_type": "markdown",
   "id": "based-madison",
   "metadata": {},
   "source": [
    "## Filtering"
   ]
  },
  {
   "cell_type": "markdown",
   "id": "brown-farming",
   "metadata": {},
   "source": [
    "Only include data from 2015 onwards."
   ]
  },
  {
   "cell_type": "raw",
   "id": "written-spokesman",
   "metadata": {
    "ExecuteTime": {
     "end_time": "2021-04-21T03:49:41.701759Z",
     "start_time": "2021-04-21T03:49:21.300383Z"
    }
   },
   "source": [
    "directory = r'Data\\amazon_reviews_us_Video_Games_v1_00.tsv'\n",
    "fn = 'amazon_reviews_us_Video_Games_v1_00.tsv'\n",
    "fp = os.path.join(directory, fn)\n",
    "df = pd.read_csv(fp, sep='\\t', error_bad_lines=False)\n",
    "\n",
    "# Filter date \n",
    "mask_date = df.review_date >= '2015-01-01'\n",
    "df = df.loc[mask_date]\n",
    "\n",
    "# Save to csv\n",
    "df.to_csv('amazon_reviews_video_games.csv')"
   ]
  },
  {
   "cell_type": "code",
   "execution_count": 11,
   "id": "established-invalid",
   "metadata": {
    "ExecuteTime": {
     "end_time": "2021-04-21T03:46:58.318855Z",
     "start_time": "2021-04-21T03:46:54.603988Z"
    }
   },
   "outputs": [],
   "source": [
    "df = pd.read_csv('amazon_reviews_video_games.csv', index_col=0)"
   ]
  },
  {
   "cell_type": "code",
   "execution_count": 17,
   "id": "dimensional-smell",
   "metadata": {
    "ExecuteTime": {
     "end_time": "2021-04-21T03:58:17.652773Z",
     "start_time": "2021-04-21T03:58:17.624849Z"
    }
   },
   "outputs": [
    {
     "data": {
      "text/html": [
       "<div>\n",
       "<style scoped>\n",
       "    .dataframe tbody tr th:only-of-type {\n",
       "        vertical-align: middle;\n",
       "    }\n",
       "\n",
       "    .dataframe tbody tr th {\n",
       "        vertical-align: top;\n",
       "    }\n",
       "\n",
       "    .dataframe thead th {\n",
       "        text-align: right;\n",
       "    }\n",
       "</style>\n",
       "<table border=\"1\" class=\"dataframe\">\n",
       "  <thead>\n",
       "    <tr style=\"text-align: right;\">\n",
       "      <th></th>\n",
       "      <th>marketplace</th>\n",
       "      <th>customer_id</th>\n",
       "      <th>review_id</th>\n",
       "      <th>product_id</th>\n",
       "      <th>product_parent</th>\n",
       "      <th>product_title</th>\n",
       "      <th>product_category</th>\n",
       "      <th>star_rating</th>\n",
       "      <th>helpful_votes</th>\n",
       "      <th>total_votes</th>\n",
       "      <th>vine</th>\n",
       "      <th>verified_purchase</th>\n",
       "      <th>review_headline</th>\n",
       "      <th>review_body</th>\n",
       "      <th>review_date</th>\n",
       "    </tr>\n",
       "  </thead>\n",
       "  <tbody>\n",
       "    <tr>\n",
       "      <th>0</th>\n",
       "      <td>US</td>\n",
       "      <td>12039526</td>\n",
       "      <td>RTIS3L2M1F5SM</td>\n",
       "      <td>B001CXYMFS</td>\n",
       "      <td>737716809</td>\n",
       "      <td>Thrustmaster T-Flight Hotas X Flight Stick</td>\n",
       "      <td>Video Games</td>\n",
       "      <td>5</td>\n",
       "      <td>0</td>\n",
       "      <td>0</td>\n",
       "      <td>N</td>\n",
       "      <td>Y</td>\n",
       "      <td>an amazing joystick. I especially love that yo...</td>\n",
       "      <td>Used this for Elite Dangerous on my mac, an am...</td>\n",
       "      <td>2015-08-31</td>\n",
       "    </tr>\n",
       "    <tr>\n",
       "      <th>1</th>\n",
       "      <td>US</td>\n",
       "      <td>9636577</td>\n",
       "      <td>R1ZV7R40OLHKD</td>\n",
       "      <td>B00M920ND6</td>\n",
       "      <td>569686175</td>\n",
       "      <td>Tonsee 6 buttons Wireless Optical Silent Gamin...</td>\n",
       "      <td>Video Games</td>\n",
       "      <td>5</td>\n",
       "      <td>0</td>\n",
       "      <td>0</td>\n",
       "      <td>N</td>\n",
       "      <td>Y</td>\n",
       "      <td>Definitely a silent mouse... Not a single clic...</td>\n",
       "      <td>Loved it,  I didn't even realise it was a gami...</td>\n",
       "      <td>2015-08-31</td>\n",
       "    </tr>\n",
       "    <tr>\n",
       "      <th>2</th>\n",
       "      <td>US</td>\n",
       "      <td>2331478</td>\n",
       "      <td>R3BH071QLH8QMC</td>\n",
       "      <td>B0029CSOD2</td>\n",
       "      <td>98937668</td>\n",
       "      <td>Hidden Mysteries: Titanic Secrets of the Fatef...</td>\n",
       "      <td>Video Games</td>\n",
       "      <td>1</td>\n",
       "      <td>0</td>\n",
       "      <td>1</td>\n",
       "      <td>N</td>\n",
       "      <td>Y</td>\n",
       "      <td>One Star</td>\n",
       "      <td>poor quality work and not as it is advertised.</td>\n",
       "      <td>2015-08-31</td>\n",
       "    </tr>\n",
       "    <tr>\n",
       "      <th>3</th>\n",
       "      <td>US</td>\n",
       "      <td>52495923</td>\n",
       "      <td>R127K9NTSXA2YH</td>\n",
       "      <td>B00GOOSV98</td>\n",
       "      <td>23143350</td>\n",
       "      <td>GelTabz Performance Thumb Grips - PlayStation ...</td>\n",
       "      <td>Video Games</td>\n",
       "      <td>3</td>\n",
       "      <td>0</td>\n",
       "      <td>0</td>\n",
       "      <td>N</td>\n",
       "      <td>Y</td>\n",
       "      <td>good, but could be bettee</td>\n",
       "      <td>nice, but tend to slip away from stick in inte...</td>\n",
       "      <td>2015-08-31</td>\n",
       "    </tr>\n",
       "    <tr>\n",
       "      <th>4</th>\n",
       "      <td>US</td>\n",
       "      <td>14533949</td>\n",
       "      <td>R32ZWUXDJPW27Q</td>\n",
       "      <td>B00Y074JOM</td>\n",
       "      <td>821342511</td>\n",
       "      <td>Zero Suit Samus amiibo - Japan Import (Super S...</td>\n",
       "      <td>Video Games</td>\n",
       "      <td>4</td>\n",
       "      <td>0</td>\n",
       "      <td>0</td>\n",
       "      <td>N</td>\n",
       "      <td>Y</td>\n",
       "      <td>Great but flawed.</td>\n",
       "      <td>Great amiibo, great for collecting. Quality ma...</td>\n",
       "      <td>2015-08-31</td>\n",
       "    </tr>\n",
       "  </tbody>\n",
       "</table>\n",
       "</div>"
      ],
      "text/plain": [
       "  marketplace  customer_id       review_id  product_id  product_parent  \\\n",
       "0          US     12039526   RTIS3L2M1F5SM  B001CXYMFS       737716809   \n",
       "1          US      9636577   R1ZV7R40OLHKD  B00M920ND6       569686175   \n",
       "2          US      2331478  R3BH071QLH8QMC  B0029CSOD2        98937668   \n",
       "3          US     52495923  R127K9NTSXA2YH  B00GOOSV98        23143350   \n",
       "4          US     14533949  R32ZWUXDJPW27Q  B00Y074JOM       821342511   \n",
       "\n",
       "                                       product_title product_category  \\\n",
       "0         Thrustmaster T-Flight Hotas X Flight Stick      Video Games   \n",
       "1  Tonsee 6 buttons Wireless Optical Silent Gamin...      Video Games   \n",
       "2  Hidden Mysteries: Titanic Secrets of the Fatef...      Video Games   \n",
       "3  GelTabz Performance Thumb Grips - PlayStation ...      Video Games   \n",
       "4  Zero Suit Samus amiibo - Japan Import (Super S...      Video Games   \n",
       "\n",
       "   star_rating  helpful_votes  total_votes vine verified_purchase  \\\n",
       "0            5              0            0    N                 Y   \n",
       "1            5              0            0    N                 Y   \n",
       "2            1              0            1    N                 Y   \n",
       "3            3              0            0    N                 Y   \n",
       "4            4              0            0    N                 Y   \n",
       "\n",
       "                                     review_headline  \\\n",
       "0  an amazing joystick. I especially love that yo...   \n",
       "1  Definitely a silent mouse... Not a single clic...   \n",
       "2                                           One Star   \n",
       "3                          good, but could be bettee   \n",
       "4                                  Great but flawed.   \n",
       "\n",
       "                                         review_body review_date  \n",
       "0  Used this for Elite Dangerous on my mac, an am...  2015-08-31  \n",
       "1  Loved it,  I didn't even realise it was a gami...  2015-08-31  \n",
       "2     poor quality work and not as it is advertised.  2015-08-31  \n",
       "3  nice, but tend to slip away from stick in inte...  2015-08-31  \n",
       "4  Great amiibo, great for collecting. Quality ma...  2015-08-31  "
      ]
     },
     "execution_count": 17,
     "metadata": {},
     "output_type": "execute_result"
    }
   ],
   "source": [
    "df.head()"
   ]
  },
  {
   "cell_type": "markdown",
   "id": "ignored-adams",
   "metadata": {},
   "source": [
    "Remove single value columns"
   ]
  },
  {
   "cell_type": "code",
   "execution_count": 21,
   "id": "departmental-telescope",
   "metadata": {
    "ExecuteTime": {
     "end_time": "2021-04-21T04:00:42.221319Z",
     "start_time": "2021-04-21T04:00:41.602622Z"
    }
   },
   "outputs": [
    {
     "data": {
      "text/plain": [
       "marketplace               1\n",
       "customer_id          219045\n",
       "review_id            330966\n",
       "product_id            32693\n",
       "product_parent        31366\n",
       "product_title         27053\n",
       "product_category          1\n",
       "star_rating               5\n",
       "helpful_votes           183\n",
       "total_votes             246\n",
       "vine                      2\n",
       "verified_purchase         2\n",
       "review_headline      137990\n",
       "review_body          259517\n",
       "review_date             243\n",
       "dtype: int64"
      ]
     },
     "execution_count": 21,
     "metadata": {},
     "output_type": "execute_result"
    }
   ],
   "source": [
    "df.nunique()"
   ]
  },
  {
   "cell_type": "code",
   "execution_count": 22,
   "id": "indian-liability",
   "metadata": {
    "ExecuteTime": {
     "end_time": "2021-04-21T04:01:21.300763Z",
     "start_time": "2021-04-21T04:01:21.258811Z"
    }
   },
   "outputs": [],
   "source": [
    "df.drop(['marketplace', 'product_category', 'vine'], axis=1, inplace=True)"
   ]
  },
  {
   "cell_type": "markdown",
   "id": "written-romance",
   "metadata": {},
   "source": [
    "## Text Preprocessing"
   ]
  },
  {
   "cell_type": "code",
   "execution_count": 26,
   "id": "adverse-military",
   "metadata": {
    "ExecuteTime": {
     "end_time": "2021-04-21T04:22:42.766275Z",
     "start_time": "2021-04-21T04:22:42.754307Z"
    }
   },
   "outputs": [],
   "source": [
    "reviews = df.review_body.copy()"
   ]
  },
  {
   "cell_type": "code",
   "execution_count": 34,
   "id": "palestinian-heart",
   "metadata": {
    "ExecuteTime": {
     "end_time": "2021-04-21T04:34:12.207336Z",
     "start_time": "2021-04-21T04:34:12.201788Z"
    }
   },
   "outputs": [
    {
     "data": {
      "text/plain": [
       "'nice, but tend to slip away from stick in intense (hard pressed) gaming sessions.'"
      ]
     },
     "execution_count": 34,
     "metadata": {},
     "output_type": "execute_result"
    }
   ],
   "source": [
    "reviews.iloc[3]"
   ]
  },
  {
   "cell_type": "markdown",
   "id": "sapphire-haven",
   "metadata": {},
   "source": [
    "Set stopwords and contractions"
   ]
  },
  {
   "cell_type": "code",
   "execution_count": 25,
   "id": "under-monroe",
   "metadata": {
    "ExecuteTime": {
     "end_time": "2021-04-21T04:22:04.232784Z",
     "start_time": "2021-04-21T04:22:04.203860Z"
    },
    "code_folding": [
     1
    ]
   },
   "outputs": [],
   "source": [
    "stop_words = stopwords.words('english')\n",
    "CONTRACTIONS = {\n",
    "    \"ain't\": \"is not\", \"aren't\": \"are not\", \"can't\": \"cannot\",\n",
    "    \"'cause\": \"because\", \"could've\": \"could have\", \"couldn't\": \"could not\",\n",
    "    \"didn't\": \"did not\", \"doesn't\": \"does not\", \"don't\": \"do not\",\n",
    "    \"hadn't\": \"had not\", \"hasn't\": \"has not\", \"haven't\": \"have not\",\n",
    "    \"he'd\": \"he would\", \"he'll\": \"he will\",\n",
    "    \"he's\": \"he is\", \"how'd\": \"how did\",\n",
    "    \"how'd'y\": \"how do you\", \"how'll\": \"how will\", \"how's\": \"how is\",\n",
    "    \"I'd\": \"I would\", \"I'd've\": \"I would have\", \"I'll\": \"I will\",\n",
    "    \"I'll've\": \"I will have\", \"I'm\": \"I am\",\n",
    "    \"I've\": \"I have\", \"i'd\": \"i would\",\n",
    "    \"i'd've\": \"i would have\", \"i'll\": \"i will\",  \"i'll've\": \"i will have\",\n",
    "    \"i'm\": \"i am\", \"i've\": \"i have\", \"isn't\": \"is not\", \"it'd\": \"it would\",\n",
    "    \"it'd've\": \"it would have\", \"it'll\": \"it will\",\n",
    "    \"it'll've\": \"it will have\", \"it's\": \"it is\",\n",
    "    \"let's\": \"let us\", \"ma'am\": \"madam\", \"mayn't\": \"may not\",\n",
    "    \"might've\": \"might have\", \"mightn't\": \"might not\",\n",
    "    \"mightn't've\": \"might not have\", \"must've\": \"must have\",\n",
    "    \"mustn't\": \"must not\", \"mustn't've\": \"must not have\",\n",
    "    \"needn't\": \"need not\", \"needn't've\": \"need not have\",\n",
    "    \"o'clock\": \"of the clock\", \"oughtn't\": \"ought not\",\n",
    "    \"oughtn't've\": \"ought not have\", \"shan't\": \"shall not\",\n",
    "    \"sha'n't\": \"shall not\", \"shan't've\": \"shall not have\",\n",
    "    \"she'd\": \"she would\", \"she'd've\": \"she would have\",\n",
    "    \"she'll\": \"she will\", \"she'll've\": \"she will have\", \"she's\": \"she is\",\n",
    "    \"should've\": \"should have\", \"shouldn't\": \"should not\",\n",
    "    \"shouldn't've\": \"should not have\", \"so've\": \"so have\",\n",
    "    \"so's\": \"so as\",\n",
    "    \"this's\": \"this is\", \"that'd\": \"that would\",\n",
    "    \"that'd've\": \"that would have\", \"that's\": \"that is\",\n",
    "    \"there'd\": \"there would\", \"there'd've\": \"there would have\",\n",
    "    \"there's\": \"there is\", \"here's\": \"here is\", \"they'd\": \"they would\",\n",
    "    \"they'd've\": \"they would have\", \"they'll\": \"they will\",\n",
    "    \"they'll've\": \"they will have\", \"they're\": \"they are\",\n",
    "    \"they've\": \"they have\", \"to've\": \"to have\", \"wasn't\": \"was not\",\n",
    "    \"we'd\": \"we would\", \"we'd've\": \"we would have\", \"we'll\": \"we will\",\n",
    "    \"we'll've\": \"we will have\", \"we're\": \"we are\", \"we've\": \"we have\",\n",
    "    \"weren't\": \"were not\", \"what'll\": \"what will\",\n",
    "    \"what'll've\": \"what will have\", \"what're\": \"what are\",\n",
    "    \"what's\": \"what is\", \"what've\": \"what have\",\n",
    "    \"when's\": \"when is\", \"when've\": \"when have\", \"where'd\": \"where did\",\n",
    "    \"where's\": \"where is\", \"where've\": \"where have\", \"who'll\": \"who will\",\n",
    "    \"who'll've\": \"who will have\", \"who's\": \"who is\", \"who've\": \"who have\",\n",
    "    \"why's\": \"why is\", \"why've\": \"why have\", \"will've\": \"will have\",\n",
    "    \"won't\": \"will not\", \"won't've\": \"will not have\",\n",
    "    \"would've\": \"would have\", \"wouldn't\": \"would not\",\n",
    "    \"wouldn't've\": \"would not have\", \"y'all\": \"you all\",\n",
    "    \"y'all'd\": \"you all would\", \"y'all'd've\": \"you all would have\",\n",
    "    \"y'all're\": \"you all are\", \"y'all've\": \"you all have\",\n",
    "    \"you'd\": \"you would\", \"you'd've\": \"you would have\", \"you'll\": \"you will\",\n",
    "    \"you'll've\": \"you will have\", \"you're\": \"you are\", \"you've\": \"you have\"}"
   ]
  },
  {
   "cell_type": "code",
   "execution_count": 73,
   "id": "biblical-donor",
   "metadata": {
    "ExecuteTime": {
     "end_time": "2021-04-21T05:07:54.310060Z",
     "start_time": "2021-04-21T05:07:54.297097Z"
    }
   },
   "outputs": [],
   "source": [
    "def text_cleaner(text):\n",
    "    \"\"\"\n",
    "    Cleans the text by removing dates and comments.\n",
    "    i.e. text enclosed in brackets and parenthesis.\n",
    "    Expand contractions and remove punctations.\n",
    "\n",
    "    Parameters\n",
    "    ----------\n",
    "    text : str\n",
    "        Text to clean.\n",
    "\n",
    "    Return\n",
    "    ------\n",
    "    token : list of str\n",
    "        Tokens extracted from text after cleaning.\n",
    "    \"\"\"\n",
    "    month_pattern = (r'jan[\\w]+ |feb[\\w]+ |mar[\\w]+ |apr[\\w]+ |may |jun[\\w]+ '\n",
    "                     r'|jul[\\w]+ |aug[\\w]+ |sep[\\w]+ |oct[\\w]+ |nov[\\w]+ '\n",
    "                     r'|dec[\\w]+ ')\n",
    "\n",
    "    clean_text = text.lower()\n",
    "    clean_text = re.sub(r'[\\(\\)\\[\\]\\{\\}]', ' ', clean_text)\n",
    "    clean_text = re.sub(month_pattern, ' ', clean_text)\n",
    "    clean_text = re.sub(r'\"', '', clean_text)\n",
    "    clean_text = re.sub(r\"'s\\b\", ' ', clean_text)\n",
    "    clean_text = re.sub(r'[^a-zA-Z]', ' ', clean_text)\n",
    "    clean_text = re.sub(r'[\\ ]+', ' ', clean_text)\n",
    "\n",
    "    clean_text = ' '.join([CONTRACTIONS[t] if t in CONTRACTIONS else t\n",
    "                           for t in clean_text.split(' ')])\n",
    "\n",
    "    return simple_preprocess(clean_text, deacc=True, min_len=2)\n",
    "\n",
    "\n",
    "def remove_stopwords(words, stop_words=stop_words):\n",
    "    \"\"\"\n",
    "    Remove stop words from the list of words.\n",
    "\n",
    "    Parameters\n",
    "    ----------\n",
    "    words : list of str\n",
    "        Words to remove stop words.\n",
    "    stop_words : set of str\n",
    "        Words to remove.\n",
    "\n",
    "    Returns\n",
    "    -------\n",
    "    token : list of str\n",
    "        Tokens with removed stop words.\n",
    "    \"\"\"\n",
    "    return [word for word in words if not word in stop_words]"
   ]
  },
  {
   "cell_type": "code",
   "execution_count": 74,
   "id": "italian-briefing",
   "metadata": {
    "ExecuteTime": {
     "end_time": "2021-04-21T05:09:06.822644Z",
     "start_time": "2021-04-21T05:07:55.439353Z"
    }
   },
   "outputs": [],
   "source": [
    "reviews_clean = reviews.apply(lambda x: text_cleaner(str(x)))\n",
    "reviews_clean = reviews_clean.apply(remove_stopwords)"
   ]
  },
  {
   "cell_type": "markdown",
   "id": "grand-wallpaper",
   "metadata": {},
   "source": [
    "# EDA"
   ]
  },
  {
   "cell_type": "code",
   "execution_count": 97,
   "id": "considerable-encoding",
   "metadata": {
    "ExecuteTime": {
     "end_time": "2021-04-21T05:29:13.495143Z",
     "start_time": "2021-04-21T05:29:13.438320Z"
    }
   },
   "outputs": [
    {
     "name": "stdout",
     "output_type": "stream",
     "text": [
      "Overall there are 32693 different products and variations out of 330966 reviews in our dataset.\n"
     ]
    }
   ],
   "source": [
    "print(('Overall there are {} different products and variations out of {} '\n",
    "       'reviews in our dataset.')\n",
    "      .format(df.product_id.nunique(), df.shape[0]))"
   ]
  },
  {
   "cell_type": "code",
   "execution_count": 91,
   "id": "earlier-guess",
   "metadata": {
    "ExecuteTime": {
     "end_time": "2021-04-21T05:25:45.029206Z",
     "start_time": "2021-04-21T05:25:44.970259Z"
    }
   },
   "outputs": [],
   "source": [
    "prod_counts = df.product_title.value_counts().copy()"
   ]
  },
  {
   "cell_type": "code",
   "execution_count": 92,
   "id": "headed-gates",
   "metadata": {
    "ExecuteTime": {
     "end_time": "2021-04-21T05:25:45.961852Z",
     "start_time": "2021-04-21T05:25:45.766085Z"
    }
   },
   "outputs": [
    {
     "data": {
      "image/png": "[encoded data removed]",
      "text/plain": [
       "<Figure size 864x432 with 1 Axes>"
      ]
     },
     "metadata": {
      "needs_background": "light"
     },
     "output_type": "display_data"
    }
   ],
   "source": [
    "top10_prod = prod_counts.head(10)\n",
    "top10_prod.sort_values(inplace=True)\n",
    "plt.figure(figsize=(12, 6))\n",
    "\n",
    "plt.barh(top10_prod.index, top10_prod, color='#37475a')\n",
    "plt.title('Most Reviewed video game in Amazon is GTA V')\n",
    "plt.xlabel('Count')\n",
    "plt.xlim((1000, 3200))\n",
    "plt.show()"
   ]
  },
  {
   "cell_type": "markdown",
   "id": "unlike-private",
   "metadata": {},
   "source": [
    "The most extremely popular videogame in our dataset is GTA V and Nintendo Amiibo. With numerous reviews, it can gain the trust of potential customers based on the reviews in search of reliable opinion. Hence, it can further lead to increase in sales for the particular product."
   ]
  },
  {
   "cell_type": "code",
   "execution_count": 109,
   "id": "egyptian-baltimore",
   "metadata": {
    "ExecuteTime": {
     "end_time": "2021-04-21T05:48:56.062568Z",
     "start_time": "2021-04-21T05:48:55.676796Z"
    },
    "scrolled": false
   },
   "outputs": [
    {
     "data": {
      "image/png": "[encoded data removed]",
      "text/plain": [
       "<Figure size 1080x432 with 1 Axes>"
      ]
     },
     "metadata": {
      "needs_background": "light"
     },
     "output_type": "display_data"
    }
   ],
   "source": [
    "plt.figure(figsize=(15, 6))\n",
    "sns.kdeplot(prod_counts, shade=True, color='#37475a')\n",
    "plt.title(f'Most products are reviewed {int(prod_counts.mean())} times.')\n",
    "plt.xlabel('Product Review Count')\n",
    "plt.show()"
   ]
  },
  {
   "cell_type": "markdown",
   "id": "brown-assurance",
   "metadata": {},
   "source": [
    "The plot above shows that rightly skewed distribution of product review counts. Some products are extremely popular reaching a scale of a thousand reviews, showcasing its reliability (because of many buyers/reviewers). In comparison, most of the products in the dataset are only reviewed around 12 times."
   ]
  },
  {
   "cell_type": "markdown",
   "id": "welcome-chase",
   "metadata": {},
   "source": [
    "## Barplot Verified purchase"
   ]
  },
  {
   "cell_type": "markdown",
   "id": "imposed-specific",
   "metadata": {},
   "source": [
    "## Barplot Customer Review Frequency"
   ]
  },
  {
   "cell_type": "markdown",
   "id": "adolescent-toronto",
   "metadata": {},
   "source": [
    "## Barplot Star Rating, Helpful Votes, Total Votes"
   ]
  },
  {
   "cell_type": "code",
   "execution_count": 89,
   "id": "serious-modern",
   "metadata": {
    "ExecuteTime": {
     "end_time": "2021-04-21T05:24:03.245939Z",
     "start_time": "2021-04-21T05:24:03.238956Z"
    },
    "scrolled": true
   },
   "outputs": [
    {
     "name": "stdout",
     "output_type": "stream",
     "text": [
      "['nice', 'thank', 'you']\n"
     ]
    },
    {
     "data": {
      "text/plain": [
       "['nice', 'thank']"
      ]
     },
     "execution_count": 89,
     "metadata": {},
     "output_type": "execute_result"
    }
   ],
   "source": [
    "clean_text = text_cleaner('nice,thank you')\n",
    "print(clean_text)\n",
    "remove_stopwords(clean_text)"
   ]
  },
  {
   "cell_type": "markdown",
   "id": "sized-legislation",
   "metadata": {},
   "source": [
    "* Remove Stopwords, High Frequency Words.\n",
    "* Tokenization"
   ]
  },
  {
   "cell_type": "code",
   "execution_count": null,
   "id": "accessory-seven",
   "metadata": {},
   "outputs": [],
   "source": []
  },
  {
   "cell_type": "markdown",
   "id": "injured-interest",
   "metadata": {},
   "source": [
    "# FIM"
   ]
  },
  {
   "cell_type": "markdown",
   "id": "meaning-armenia",
   "metadata": {},
   "source": [
    "customer1: {product1, product2, product3},\n",
    "\n",
    "customer2: {product1, product2, product4}"
   ]
  },
  {
   "cell_type": "markdown",
   "id": "downtown-shareware",
   "metadata": {},
   "source": [
    "## Confidence, Lift, Covariance"
   ]
  },
  {
   "cell_type": "markdown",
   "id": "elect-intensity",
   "metadata": {},
   "source": [
    "# Network"
   ]
  },
  {
   "cell_type": "markdown",
   "id": "differential-vocabulary",
   "metadata": {},
   "source": [
    "## Construct the Network"
   ]
  },
  {
   "cell_type": "markdown",
   "id": "burning-oracle",
   "metadata": {},
   "source": [
    "Color code based on 5 rating, scale the size of the node based on number of degrees, change the weight of the links based on prevalence of reviewed products."
   ]
  },
  {
   "cell_type": "markdown",
   "id": "friendly-google",
   "metadata": {},
   "source": [
    "## Network Properties"
   ]
  },
  {
   "cell_type": "markdown",
   "id": "increased-guard",
   "metadata": {},
   "source": [
    "## Centrality Measurements"
   ]
  },
  {
   "cell_type": "markdown",
   "id": "loose-january",
   "metadata": {},
   "source": [
    "## Community Detection"
   ]
  },
  {
   "cell_type": "markdown",
   "id": "graduate-tragedy",
   "metadata": {},
   "source": [
    "# Review Information Network"
   ]
  },
  {
   "cell_type": "markdown",
   "id": "professional-society",
   "metadata": {},
   "source": [
    "Co-occurrence of words in the review."
   ]
  },
  {
   "cell_type": "markdown",
   "id": "corresponding-cancer",
   "metadata": {},
   "source": [
    "## Convert to Word2Vec"
   ]
  },
  {
   "cell_type": "markdown",
   "id": "infrared-stomach",
   "metadata": {},
   "source": [
    "## Cosine Similarity"
   ]
  },
  {
   "cell_type": "markdown",
   "id": "daily-ethiopia",
   "metadata": {},
   "source": [
    "## Clustering"
   ]
  },
  {
   "cell_type": "markdown",
   "id": "danish-browser",
   "metadata": {
    "heading_collapsed": true
   },
   "source": [
    "## Customer Review Frame Network"
   ]
  },
  {
   "cell_type": "markdown",
   "id": "missing-injection",
   "metadata": {},
   "source": [
    "# Conclusion"
   ]
  },
  {
   "cell_type": "markdown",
   "id": "identical-planning",
   "metadata": {},
   "source": [
    "# Recommendation"
   ]
  },
  {
   "cell_type": "markdown",
   "id": "voluntary-phoenix",
   "metadata": {},
   "source": [
    "# Reference"
   ]
  }
 ],
 "metadata": {
  "kernelspec": {
   "display_name": "Python 3",
   "language": "python",
   "name": "python3"
  },
  "language_info": {
   "codemirror_mode": {
    "name": "ipython",
    "version": 3
   },
   "file_extension": ".py",
   "mimetype": "text/x-python",
   "name": "python",
   "nbconvert_exporter": "python",
   "pygments_lexer": "ipython3",
   "version": "3.7.9"
  },
  "toc": {
   "base_numbering": 1,
   "nav_menu": {},
   "number_sections": true,
   "sideBar": true,
   "skip_h1_title": false,
   "title_cell": "Table of Contents",
   "title_sidebar": "Contents",
   "toc_cell": false,
   "toc_position": {},
   "toc_section_display": true,
   "toc_window_display": true
  },
  "varInspector": {
   "cols": {
    "lenName": 16,
    "lenType": 16,
    "lenVar": 40
   },
   "kernels_config": {
    "python": {
     "delete_cmd_postfix": "",
     "delete_cmd_prefix": "del ",
     "library": "var_list.py",
     "varRefreshCmd": "print(var_dic_list())"
    },
    "r": {
     "delete_cmd_postfix": ") ",
     "delete_cmd_prefix": "rm(",
     "library": "var_list.r",
     "varRefreshCmd": "cat(var_dic_list()) "
    }
   },
   "types_to_exclude": [
    "module",
    "function",
    "builtin_function_or_method",
    "instance",
    "_Feature"
   ],
   "window_display": false
  }
 },
 "nbformat": 4,
 "nbformat_minor": 5
}
